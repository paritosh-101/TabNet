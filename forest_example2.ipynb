{
 "cells": [
  {
   "cell_type": "code",
   "execution_count": 1,
   "metadata": {},
   "outputs": [],
   "source": [
    "from pytorch_tabnet.tab_model import TabNetClassifier\n",
    "\n",
    "import torch\n",
    "from sklearn.preprocessing import LabelEncoder\n",
    "from sklearn.metrics import accuracy_score\n",
    "from sklearn.model_selection import train_test_split\n",
    "import pandas as pd\n",
    "import numpy as np\n",
    "np.random.seed(0)\n",
    "\n",
    "\n",
    "import os\n",
    "import wget\n",
    "from pathlib import Path\n",
    "import shutil\n",
    "import gzip\n",
    "\n",
    "from matplotlib import pyplot as plt\n",
    "%matplotlib inline"
   ]
  },
  {
   "cell_type": "markdown",
   "metadata": {},
   "source": [
    "# Download ForestCoverType dataset"
   ]
  },
  {
   "cell_type": "code",
   "execution_count": 2,
   "metadata": {},
   "outputs": [],
   "source": [
    "url = \"https://archive.ics.uci.edu/ml/machine-learning-databases/covtype/covtype.data.gz\"\n",
    "dataset_name = 'forest-cover-type'\n",
    "tmp_out = Path('./data/'+dataset_name+'.gz')\n",
    "out = Path(os.getcwd()+'/data/'+dataset_name+'.csv')"
   ]
  },
  {
   "cell_type": "code",
   "execution_count": 3,
   "metadata": {},
   "outputs": [
    {
     "name": "stdout",
     "output_type": "stream",
     "text": [
      "device: cuda\n"
     ]
    }
   ],
   "source": [
    "# check if using cuda\n",
    "if torch.cuda.is_available():\n",
    "    device = 'cuda'\n",
    "else:\n",
    "    device = 'cpu'\n",
    "print(f'device: {device}')"
   ]
  },
  {
   "cell_type": "code",
   "execution_count": 4,
   "metadata": {},
   "outputs": [
    {
     "name": "stdout",
     "output_type": "stream",
     "text": [
      "Downloading file...\n"
     ]
    }
   ],
   "source": [
    "out.parent.mkdir(parents=True, exist_ok=True)\n",
    "if out.exists():\n",
    "    print(\"File already exists.\")\n",
    "else:\n",
    "    print(\"Downloading file...\")\n",
    "    wget.download(url, tmp_out.as_posix())\n",
    "    with gzip.open(tmp_out, 'rb') as f_in:\n",
    "        with open(out, 'wb') as f_out:\n",
    "            shutil.copyfileobj(f_in, f_out)"
   ]
  },
  {
   "cell_type": "markdown",
   "metadata": {},
   "source": [
    "# Load data and split\n",
    "Same split as in original paper"
   ]
  },
  {
   "cell_type": "code",
   "execution_count": 5,
   "metadata": {},
   "outputs": [],
   "source": [
    "target = \"Covertype\"\n",
    "\n",
    "bool_columns = [\n",
    "    \"Wilderness_Area1\", \"Wilderness_Area2\", \"Wilderness_Area3\",\n",
    "    \"Wilderness_Area4\", \"Soil_Type1\", \"Soil_Type2\", \"Soil_Type3\", \"Soil_Type4\",\n",
    "    \"Soil_Type5\", \"Soil_Type6\", \"Soil_Type7\", \"Soil_Type8\", \"Soil_Type9\",\n",
    "    \"Soil_Type10\", \"Soil_Type11\", \"Soil_Type12\", \"Soil_Type13\", \"Soil_Type14\",\n",
    "    \"Soil_Type15\", \"Soil_Type16\", \"Soil_Type17\", \"Soil_Type18\", \"Soil_Type19\",\n",
    "    \"Soil_Type20\", \"Soil_Type21\", \"Soil_Type22\", \"Soil_Type23\", \"Soil_Type24\",\n",
    "    \"Soil_Type25\", \"Soil_Type26\", \"Soil_Type27\", \"Soil_Type28\", \"Soil_Type29\",\n",
    "    \"Soil_Type30\", \"Soil_Type31\", \"Soil_Type32\", \"Soil_Type33\", \"Soil_Type34\",\n",
    "    \"Soil_Type35\", \"Soil_Type36\", \"Soil_Type37\", \"Soil_Type38\", \"Soil_Type39\",\n",
    "    \"Soil_Type40\"\n",
    "]\n",
    "\n",
    "int_columns = [\n",
    "    \"Elevation\", \"Aspect\", \"Slope\", \"Horizontal_Distance_To_Hydrology\",\n",
    "    \"Vertical_Distance_To_Hydrology\", \"Horizontal_Distance_To_Roadways\",\n",
    "    \"Hillshade_9am\", \"Hillshade_Noon\", \"Hillshade_3pm\",\n",
    "    \"Horizontal_Distance_To_Fire_Points\"\n",
    "]\n",
    "\n",
    "feature_columns = (\n",
    "    int_columns + bool_columns + [target])"
   ]
  },
  {
   "cell_type": "code",
   "execution_count": 6,
   "metadata": {},
   "outputs": [],
   "source": [
    "train = pd.read_csv(out, header=None, names=feature_columns)\n",
    "\n",
    "n_total = len(train)\n",
    "\n",
    "# Train, val and test split follows\n",
    "# Rory Mitchell, Andrey Adinets, Thejaswi Rao, and Eibe Frank.\n",
    "# Xgboost: Scalable GPU accelerated learning. arXiv:1806.11248, 2018.\n",
    "\n",
    "train_val_indices, test_indices = train_test_split(\n",
    "    range(n_total), test_size=0.2, random_state=0)\n",
    "train_indices, valid_indices = train_test_split(\n",
    "    train_val_indices, test_size=0.2 / 0.6, random_state=0)"
   ]
  },
  {
   "cell_type": "markdown",
   "metadata": {},
   "source": [
    "# Simple preprocessing\n",
    "\n",
    "Label encode categorical features and fill empty cells."
   ]
  },
  {
   "cell_type": "code",
   "execution_count": 7,
   "metadata": {},
   "outputs": [],
   "source": [
    "categorical_columns = []\n",
    "categorical_dims =  {}\n",
    "for col in train.columns[train.dtypes == object]:\n",
    "    print(col, train[col].nunique())\n",
    "    l_enc = LabelEncoder()\n",
    "    train[col] = train[col].fillna(\"VV_likely\")\n",
    "    train[col] = l_enc.fit_transform(train[col].values)\n",
    "    categorical_columns.append(col)\n",
    "    categorical_dims[col] = len(l_enc.classes_)\n",
    "\n",
    "for col in train.columns[train.dtypes == 'float64']:\n",
    "    train.fillna(train.loc[train_indices, col].mean(), inplace=True)"
   ]
  },
  {
   "cell_type": "markdown",
   "metadata": {},
   "source": [
    "# Define categorical features for categorical embeddings"
   ]
  },
  {
   "cell_type": "code",
   "execution_count": 8,
   "metadata": {},
   "outputs": [],
   "source": [
    "# This is a generic pipeline but actually no categorical features are available for this dataset\n",
    "\n",
    "unused_feat = []\n",
    "\n",
    "features = [ col for col in train.columns if col not in unused_feat+[target]] \n",
    "\n",
    "cat_idxs = [ i for i, f in enumerate(features) if f in categorical_columns]\n",
    "\n",
    "cat_dims = [ categorical_dims[f] for i, f in enumerate(features) if f in categorical_columns]\n"
   ]
  },
  {
   "cell_type": "markdown",
   "metadata": {},
   "source": [
    "# Network parameters"
   ]
  },
  {
   "cell_type": "code",
   "execution_count": 9,
   "metadata": {},
   "outputs": [
    {
     "name": "stderr",
     "output_type": "stream",
     "text": [
      "/home/paritosh/workspace/tabnet/pytorch_tabnet/abstract_model.py:82: UserWarning: Device used : cuda\n",
      "  warnings.warn(f\"Device used : {self.device}\")\n"
     ]
    }
   ],
   "source": [
    "clf = TabNetClassifier(\n",
    "    n_d=64, n_a=64, n_steps=5,\n",
    "    gamma=1.5, n_independent=2, n_shared=2,\n",
    "    cat_idxs=cat_idxs,\n",
    "    cat_dims=cat_dims,\n",
    "    cat_emb_dim=1,\n",
    "    lambda_sparse=1e-4, momentum=0.3, clip_value=2.,\n",
    "    optimizer_fn=torch.optim.Adam,\n",
    "    optimizer_params=dict(lr=2e-2),\n",
    "    scheduler_params = {\"gamma\": 0.95,\n",
    "                     \"step_size\": 20},\n",
    "    scheduler_fn=torch.optim.lr_scheduler.StepLR, epsilon=1e-15\n",
    ")"
   ]
  },
  {
   "cell_type": "markdown",
   "metadata": {},
   "source": [
    "# Training"
   ]
  },
  {
   "cell_type": "code",
   "execution_count": 10,
   "metadata": {},
   "outputs": [],
   "source": [
    "if os.getenv(\"CI\", False):\n",
    "# Take only a subsample to run CI\n",
    "    X_train = train[features].values[train_indices][:1000,:]\n",
    "    y_train = train[target].values[train_indices][:1000]\n",
    "else:\n",
    "    X_train = train[features].values[train_indices]\n",
    "    y_train = train[target].values[train_indices]\n",
    "\n",
    "X_valid = train[features].values[valid_indices]\n",
    "y_valid = train[target].values[valid_indices]\n",
    "\n",
    "X_test = train[features].values[test_indices]\n",
    "y_test = train[target].values[test_indices]"
   ]
  },
  {
   "cell_type": "code",
   "execution_count": 11,
   "metadata": {},
   "outputs": [],
   "source": [
    "max_epochs = 100 if not os.getenv(\"CI\", False) else 2\n",
    "# max_epochs = 10 if not os.getenv(\"CI\", False) else 2"
   ]
  },
  {
   "cell_type": "code",
   "execution_count": 12,
   "metadata": {
    "scrolled": true
   },
   "outputs": [
    {
     "name": "stdout",
     "output_type": "stream",
     "text": [
      "epoch 0  | loss: 1.27357 | train_accuracy: 0.08309 | valid_accuracy: 0.08263 |  0:00:05s\n",
      "epoch 1  | loss: 0.79606 | train_accuracy: 0.04098 | valid_accuracy: 0.04054 |  0:00:10s\n",
      "epoch 2  | loss: 0.71655 | train_accuracy: 0.03655 | valid_accuracy: 0.0364  |  0:00:16s\n",
      "epoch 3  | loss: 0.69805 | train_accuracy: 0.14264 | valid_accuracy: 0.14148 |  0:00:21s\n",
      "epoch 4  | loss: 0.68321 | train_accuracy: 0.03844 | valid_accuracy: 0.03845 |  0:00:26s\n",
      "epoch 5  | loss: 0.67213 | train_accuracy: 0.11338 | valid_accuracy: 0.11261 |  0:00:32s\n",
      "epoch 6  | loss: 0.66862 | train_accuracy: 0.13856 | valid_accuracy: 0.13806 |  0:00:37s\n",
      "epoch 7  | loss: 0.65565 | train_accuracy: 0.14156 | valid_accuracy: 0.14015 |  0:00:42s\n",
      "epoch 8  | loss: 0.65136 | train_accuracy: 0.17754 | valid_accuracy: 0.17645 |  0:00:48s\n",
      "epoch 9  | loss: 0.64366 | train_accuracy: 0.25853 | valid_accuracy: 0.26021 |  0:00:53s\n",
      "epoch 10 | loss: 0.6342  | train_accuracy: 0.30954 | valid_accuracy: 0.3112  |  0:00:58s\n",
      "epoch 11 | loss: 0.63033 | train_accuracy: 0.37592 | valid_accuracy: 0.37707 |  0:01:04s\n",
      "epoch 12 | loss: 0.62041 | train_accuracy: 0.42666 | valid_accuracy: 0.42665 |  0:01:09s\n",
      "epoch 13 | loss: 0.61528 | train_accuracy: 0.48885 | valid_accuracy: 0.48912 |  0:01:14s\n",
      "epoch 14 | loss: 0.61242 | train_accuracy: 0.5295  | valid_accuracy: 0.52844 |  0:01:19s\n",
      "epoch 15 | loss: 0.60797 | train_accuracy: 0.6041  | valid_accuracy: 0.60268 |  0:01:25s\n",
      "epoch 16 | loss: 0.60225 | train_accuracy: 0.64191 | valid_accuracy: 0.6407  |  0:01:30s\n",
      "epoch 17 | loss: 0.60096 | train_accuracy: 0.68152 | valid_accuracy: 0.67932 |  0:01:35s\n",
      "epoch 18 | loss: 0.59252 | train_accuracy: 0.69716 | valid_accuracy: 0.69462 |  0:01:41s\n",
      "epoch 19 | loss: 0.58792 | train_accuracy: 0.71335 | valid_accuracy: 0.7114  |  0:01:46s\n",
      "epoch 20 | loss: 0.58256 | train_accuracy: 0.73298 | valid_accuracy: 0.73185 |  0:01:51s\n",
      "epoch 21 | loss: 0.57673 | train_accuracy: 0.73252 | valid_accuracy: 0.73105 |  0:01:56s\n",
      "epoch 22 | loss: 0.57862 | train_accuracy: 0.75263 | valid_accuracy: 0.75162 |  0:02:02s\n",
      "epoch 23 | loss: 0.58046 | train_accuracy: 0.75134 | valid_accuracy: 0.74897 |  0:02:07s\n",
      "epoch 24 | loss: 0.60692 | train_accuracy: 0.75853 | valid_accuracy: 0.75662 |  0:02:12s\n",
      "epoch 25 | loss: 0.58453 | train_accuracy: 0.76219 | valid_accuracy: 0.76067 |  0:02:17s\n",
      "epoch 26 | loss: 0.57805 | train_accuracy: 0.7749  | valid_accuracy: 0.77247 |  0:02:23s\n",
      "epoch 27 | loss: 0.58004 | train_accuracy: 0.77154 | valid_accuracy: 0.76996 |  0:02:28s\n",
      "epoch 28 | loss: 0.57579 | train_accuracy: 0.77315 | valid_accuracy: 0.7713  |  0:02:33s\n",
      "epoch 29 | loss: 0.56535 | train_accuracy: 0.78204 | valid_accuracy: 0.77956 |  0:02:38s\n",
      "epoch 30 | loss: 0.55596 | train_accuracy: 0.78559 | valid_accuracy: 0.7834  |  0:02:44s\n",
      "epoch 31 | loss: 0.5477  | train_accuracy: 0.78802 | valid_accuracy: 0.78534 |  0:02:49s\n",
      "epoch 32 | loss: 0.54265 | train_accuracy: 0.78931 | valid_accuracy: 0.78651 |  0:02:54s\n",
      "epoch 33 | loss: 0.54364 | train_accuracy: 0.79124 | valid_accuracy: 0.78945 |  0:02:59s\n",
      "epoch 34 | loss: 0.53488 | train_accuracy: 0.79835 | valid_accuracy: 0.79494 |  0:03:05s\n",
      "epoch 35 | loss: 0.53532 | train_accuracy: 0.79684 | valid_accuracy: 0.79341 |  0:03:10s\n",
      "epoch 36 | loss: 0.5259  | train_accuracy: 0.7997  | valid_accuracy: 0.79563 |  0:03:15s\n",
      "epoch 37 | loss: 0.51955 | train_accuracy: 0.80327 | valid_accuracy: 0.80033 |  0:03:20s\n",
      "epoch 38 | loss: 0.51341 | train_accuracy: 0.8064  | valid_accuracy: 0.80389 |  0:03:26s\n",
      "epoch 39 | loss: 0.5142  | train_accuracy: 0.8078  | valid_accuracy: 0.8052  |  0:03:31s\n",
      "epoch 40 | loss: 0.51843 | train_accuracy: 0.79762 | valid_accuracy: 0.79496 |  0:03:36s\n",
      "epoch 41 | loss: 0.54064 | train_accuracy: 0.78987 | valid_accuracy: 0.78762 |  0:03:41s\n",
      "epoch 42 | loss: 0.54597 | train_accuracy: 0.80031 | valid_accuracy: 0.79794 |  0:03:46s\n",
      "epoch 43 | loss: 0.53524 | train_accuracy: 0.79848 | valid_accuracy: 0.79586 |  0:03:52s\n",
      "epoch 44 | loss: 0.52607 | train_accuracy: 0.8026  | valid_accuracy: 0.79903 |  0:03:57s\n",
      "epoch 45 | loss: 0.5167  | train_accuracy: 0.81008 | valid_accuracy: 0.80756 |  0:04:03s\n",
      "epoch 46 | loss: 0.51671 | train_accuracy: 0.7985  | valid_accuracy: 0.79544 |  0:04:08s\n",
      "epoch 47 | loss: 0.53849 | train_accuracy: 0.79888 | valid_accuracy: 0.7965  |  0:04:13s\n",
      "epoch 48 | loss: 0.53577 | train_accuracy: 0.79822 | valid_accuracy: 0.79707 |  0:04:18s\n",
      "epoch 49 | loss: 0.51989 | train_accuracy: 0.80763 | valid_accuracy: 0.80558 |  0:04:24s\n",
      "epoch 50 | loss: 0.50555 | train_accuracy: 0.81017 | valid_accuracy: 0.8087  |  0:04:29s\n",
      "epoch 51 | loss: 0.4959  | train_accuracy: 0.81824 | valid_accuracy: 0.81461 |  0:04:34s\n",
      "epoch 52 | loss: 0.48652 | train_accuracy: 0.82126 | valid_accuracy: 0.81831 |  0:04:40s\n",
      "epoch 53 | loss: 0.49179 | train_accuracy: 0.81913 | valid_accuracy: 0.8158  |  0:04:45s\n",
      "epoch 54 | loss: 0.4863  | train_accuracy: 0.82217 | valid_accuracy: 0.81887 |  0:04:51s\n",
      "epoch 55 | loss: 0.48879 | train_accuracy: 0.82194 | valid_accuracy: 0.81918 |  0:04:56s\n",
      "epoch 56 | loss: 0.47663 | train_accuracy: 0.8275  | valid_accuracy: 0.82457 |  0:05:02s\n",
      "epoch 57 | loss: 0.47008 | train_accuracy: 0.83013 | valid_accuracy: 0.82611 |  0:05:07s\n",
      "epoch 58 | loss: 0.4676  | train_accuracy: 0.83387 | valid_accuracy: 0.83023 |  0:05:12s\n",
      "epoch 59 | loss: 0.48161 | train_accuracy: 0.81576 | valid_accuracy: 0.81311 |  0:05:18s\n",
      "epoch 60 | loss: 0.49858 | train_accuracy: 0.81673 | valid_accuracy: 0.81385 |  0:05:23s\n",
      "epoch 61 | loss: 0.47999 | train_accuracy: 0.82874 | valid_accuracy: 0.82489 |  0:05:28s\n",
      "epoch 62 | loss: 0.46472 | train_accuracy: 0.83758 | valid_accuracy: 0.83409 |  0:05:33s\n",
      "epoch 63 | loss: 0.45482 | train_accuracy: 0.84228 | valid_accuracy: 0.8383  |  0:05:38s\n",
      "epoch 64 | loss: 0.44941 | train_accuracy: 0.84534 | valid_accuracy: 0.8411  |  0:05:43s\n",
      "epoch 65 | loss: 0.44165 | train_accuracy: 0.84433 | valid_accuracy: 0.84117 |  0:05:48s\n",
      "epoch 66 | loss: 0.44117 | train_accuracy: 0.84726 | valid_accuracy: 0.84356 |  0:05:53s\n",
      "epoch 67 | loss: 0.43558 | train_accuracy: 0.84962 | valid_accuracy: 0.8461  |  0:05:59s\n",
      "epoch 68 | loss: 0.43492 | train_accuracy: 0.84794 | valid_accuracy: 0.8443  |  0:06:04s\n",
      "epoch 69 | loss: 0.45819 | train_accuracy: 0.83095 | valid_accuracy: 0.82677 |  0:06:09s\n",
      "epoch 70 | loss: 0.4626  | train_accuracy: 0.83454 | valid_accuracy: 0.83098 |  0:06:14s\n",
      "epoch 71 | loss: 0.4689  | train_accuracy: 0.83117 | valid_accuracy: 0.82784 |  0:06:20s\n",
      "epoch 72 | loss: 0.46343 | train_accuracy: 0.84237 | valid_accuracy: 0.83926 |  0:06:25s\n",
      "epoch 73 | loss: 0.44593 | train_accuracy: 0.84452 | valid_accuracy: 0.84149 |  0:06:30s\n",
      "epoch 74 | loss: 0.4287  | train_accuracy: 0.85435 | valid_accuracy: 0.84971 |  0:06:36s\n",
      "epoch 75 | loss: 0.42696 | train_accuracy: 0.84368 | valid_accuracy: 0.83863 |  0:06:41s\n",
      "epoch 76 | loss: 0.43138 | train_accuracy: 0.85428 | valid_accuracy: 0.85058 |  0:06:46s\n",
      "epoch 77 | loss: 0.42267 | train_accuracy: 0.8589  | valid_accuracy: 0.85506 |  0:06:51s\n",
      "epoch 78 | loss: 0.41428 | train_accuracy: 0.86247 | valid_accuracy: 0.85863 |  0:06:56s\n",
      "epoch 79 | loss: 0.40555 | train_accuracy: 0.86315 | valid_accuracy: 0.85915 |  0:07:01s\n",
      "epoch 80 | loss: 0.40122 | train_accuracy: 0.86821 | valid_accuracy: 0.86308 |  0:07:07s\n",
      "epoch 81 | loss: 0.3926  | train_accuracy: 0.87248 | valid_accuracy: 0.86689 |  0:07:12s\n",
      "epoch 82 | loss: 0.39078 | train_accuracy: 0.87254 | valid_accuracy: 0.8679  |  0:07:17s\n",
      "epoch 83 | loss: 0.3886  | train_accuracy: 0.8746  | valid_accuracy: 0.86985 |  0:07:22s\n",
      "epoch 84 | loss: 0.39217 | train_accuracy: 0.86763 | valid_accuracy: 0.86337 |  0:07:28s\n",
      "epoch 85 | loss: 0.4019  | train_accuracy: 0.87006 | valid_accuracy: 0.86432 |  0:07:33s\n",
      "epoch 86 | loss: 0.38748 | train_accuracy: 0.8779  | valid_accuracy: 0.87225 |  0:07:38s\n",
      "epoch 87 | loss: 0.38328 | train_accuracy: 0.87863 | valid_accuracy: 0.87241 |  0:07:43s\n",
      "epoch 88 | loss: 0.38451 | train_accuracy: 0.87124 | valid_accuracy: 0.86566 |  0:07:48s\n",
      "epoch 89 | loss: 0.38785 | train_accuracy: 0.87741 | valid_accuracy: 0.87118 |  0:07:54s\n",
      "epoch 90 | loss: 0.40893 | train_accuracy: 0.84945 | valid_accuracy: 0.84505 |  0:07:59s\n",
      "epoch 91 | loss: 0.45174 | train_accuracy: 0.84448 | valid_accuracy: 0.83998 |  0:08:04s\n",
      "epoch 92 | loss: 0.43262 | train_accuracy: 0.85819 | valid_accuracy: 0.85436 |  0:08:09s\n",
      "epoch 93 | loss: 0.41342 | train_accuracy: 0.86978 | valid_accuracy: 0.86374 |  0:08:15s\n",
      "epoch 94 | loss: 0.40255 | train_accuracy: 0.86576 | valid_accuracy: 0.86052 |  0:08:20s\n",
      "epoch 95 | loss: 0.39766 | train_accuracy: 0.86915 | valid_accuracy: 0.86355 |  0:08:25s\n",
      "epoch 96 | loss: 0.38577 | train_accuracy: 0.87964 | valid_accuracy: 0.87411 |  0:08:31s\n",
      "epoch 97 | loss: 0.38148 | train_accuracy: 0.87913 | valid_accuracy: 0.87249 |  0:08:36s\n",
      "epoch 98 | loss: 0.379   | train_accuracy: 0.88094 | valid_accuracy: 0.87437 |  0:08:41s\n",
      "epoch 99 | loss: 0.37037 | train_accuracy: 0.88441 | valid_accuracy: 0.87826 |  0:08:46s\n",
      "Stop training because you reached max_epochs = 100 with best_epoch = 99 and best_valid_accuracy = 0.87826\n"
     ]
    },
    {
     "name": "stderr",
     "output_type": "stream",
     "text": [
      "/home/paritosh/workspace/tabnet/pytorch_tabnet/callbacks.py:172: UserWarning: Best weights from best epoch are automatically used!\n",
      "  warnings.warn(wrn_msg)\n"
     ]
    }
   ],
   "source": [
    "from pytorch_tabnet.augmentations import ClassificationSMOTE\n",
    "aug = ClassificationSMOTE(p=0.2)\n",
    "\n",
    "clf.fit(\n",
    "    X_train=X_train, y_train=y_train,\n",
    "    eval_set=[(X_train, y_train), (X_valid, y_valid)],\n",
    "    eval_name=['train', 'valid'],\n",
    "    max_epochs=max_epochs, patience=100,\n",
    "    batch_size=16384, virtual_batch_size=256,\n",
    "    augmentations=aug\n",
    ") "
   ]
  },
  {
   "cell_type": "code",
   "execution_count": 13,
   "metadata": {},
   "outputs": [
    {
     "data": {
      "text/plain": [
       "[<matplotlib.lines.Line2D at 0x7b82c362cd10>]"
      ]
     },
     "execution_count": 13,
     "metadata": {},
     "output_type": "execute_result"
    },
    {
     "data": {
      "image/png": "[encoded data removed]",
      "text/plain": [
       "<Figure size 640x480 with 1 Axes>"
      ]
     },
     "metadata": {},
     "output_type": "display_data"
    }
   ],
   "source": [
    "# plot losses\n",
    "plt.plot(clf.history['loss'])"
   ]
  },
  {
   "cell_type": "code",
   "execution_count": 14,
   "metadata": {},
   "outputs": [
    {
     "data": {
      "text/plain": [
       "[<matplotlib.lines.Line2D at 0x7b82c369ae10>]"
      ]
     },
     "execution_count": 14,
     "metadata": {},
     "output_type": "execute_result"
    },
    {
     "data": {
      "image/png": "[encoded data removed]",
      "text/plain": [
       "<Figure size 640x480 with 1 Axes>"
      ]
     },
     "metadata": {},
     "output_type": "display_data"
    }
   ],
   "source": [
    "# plot accuracy\n",
    "plt.plot(clf.history['train_accuracy'])\n",
    "plt.plot(clf.history['valid_accuracy'])"
   ]
  },
  {
   "cell_type": "code",
   "execution_count": 15,
   "metadata": {},
   "outputs": [],
   "source": [
    "# from sklearn.utils import shuffle\n",
    "# from torch.utils.data import TensorDataset, DataLoader\n",
    "\n",
    "# # Set the number of samples per class\n",
    "# samples_per_class = 500\n",
    "\n",
    "# # Get the unique classes from the training target\n",
    "# unique_classes = np.unique(y_train)\n",
    "\n",
    "# # Create a list to store the selected indices for each class\n",
    "# selected_indices = []\n",
    "\n",
    "# # Iterate over each unique class\n",
    "# for class_label in unique_classes:\n",
    "#     # Find the indices of samples belonging to the current class\n",
    "#     class_indices = np.where(y_train == class_label)[0]\n",
    "    \n",
    "#     # Shuffle the indices to ensure randomness\n",
    "#     shuffled_indices = shuffle(class_indices, random_state=42)\n",
    "    \n",
    "#     # Select the first 'samples_per_class' indices for the current class\n",
    "#     selected_class_indices = shuffled_indices[:samples_per_class]\n",
    "    \n",
    "#     # Append the selected indices to the list\n",
    "#     selected_indices.extend(selected_class_indices)\n",
    "\n",
    "# # Convert the selected indices to a numpy array\n",
    "# selected_indices = np.array(selected_indices)\n",
    "\n",
    "# # Get the features and target for the selected samples\n",
    "# X_train_balanced = X_train[selected_indices]\n",
    "# y_train_balanced = y_train[selected_indices]\n",
    "\n",
    "# # Create a PyTorch dataset and data loader for the balanced training set\n",
    "# train_balanced_dataset = TensorDataset(torch.from_numpy(X_train_balanced).float(), torch.from_numpy(y_train_balanced).long())\n",
    "# train_balanced_loader = DataLoader(train_balanced_dataset, batch_size=128, shuffle=False)"
   ]
  },
  {
   "cell_type": "code",
   "execution_count": 16,
   "metadata": {},
   "outputs": [],
   "source": [
    "# # Save the trained model\n",
    "# model_path = \"tabnet_model\"\n",
    "# clf.save_model(model_path)\n",
    "\n",
    "# # Load the saved model\n",
    "# loaded_clf = TabNetClassifier(\n",
    "#     n_d=64, n_a=64, n_steps=5,\n",
    "#     gamma=1.5, n_independent=2, n_shared=2,\n",
    "#     cat_idxs=cat_idxs,\n",
    "#     cat_dims=cat_dims,\n",
    "#     cat_emb_dim=1,\n",
    "#     lambda_sparse=1e-4, momentum=0.3, clip_value=2.,\n",
    "#     optimizer_fn=torch.optim.Adam,\n",
    "#     optimizer_params=dict(lr=2e-2),\n",
    "#     scheduler_params={\"gamma\": 0.95, \"step_size\": 20},\n",
    "#     scheduler_fn=torch.optim.lr_scheduler.StepLR, epsilon=1e-15\n",
    "# )\n",
    "# loaded_clf.load_model(model_path+\".zip\")\n",
    "\n",
    "# # Extract embeddings for the balanced training set using the loaded model\n",
    "# train_embeddings = []\n",
    "# for data in train_balanced_loader:\n",
    "#     data = data[0]  # Assuming data is a tuple (features, target)\n",
    "#     _, embedded = loaded_clf.explain(data)\n",
    "#     train_embeddings.append(embedded)\n",
    "\n",
    "# train_embeddings = np.vstack(train_embeddings)"
   ]
  },
  {
   "cell_type": "code",
   "execution_count": 17,
   "metadata": {},
   "outputs": [],
   "source": [
    "# # import torch\n",
    "# from torch.utils.data import TensorDataset, DataLoader\n",
    "# from sklearn.utils import shuffle\n",
    "\n",
    "# # Set the number of samples per class\n",
    "# samples_per_class = 500\n",
    "\n",
    "# # Get the unique classes from the training target\n",
    "# unique_classes = np.unique(y_train)\n",
    "\n",
    "# # Create a list to store the selected indices for each class\n",
    "# selected_indices = []\n",
    "\n",
    "# # Iterate over each unique class\n",
    "# for class_label in unique_classes:\n",
    "#     # Find the indices of samples belonging to the current class\n",
    "#     class_indices = np.where(y_train == class_label)[0]\n",
    "    \n",
    "#     # Shuffle the indices to ensure randomness\n",
    "#     shuffled_indices = shuffle(class_indices, random_state=42)\n",
    "    \n",
    "#     # Select the first 'samples_per_class' indices for the current class\n",
    "#     selected_class_indices = shuffled_indices[:samples_per_class]\n",
    "    \n",
    "#     # Append the selected indices to the list\n",
    "#     selected_indices.extend(selected_class_indices)\n",
    "\n",
    "# # Convert the selected indices to a numpy array\n",
    "# selected_indices = np.array(selected_indices)\n",
    "\n",
    "# # Get the features and target for the selected samples\n",
    "# X_train_balanced = X_train[selected_indices]\n",
    "# y_train_balanced = y_train[selected_indices]\n",
    "\n",
    "# # Save the trained model\n",
    "# model_path = \"tabnet_model\"\n",
    "# clf.save_model(model_path)\n",
    "\n",
    "# # Load the saved model\n",
    "# loaded_clf = TabNetClassifier(\n",
    "#     n_d=64, n_a=64, n_steps=5,\n",
    "#     gamma=1.5, n_independent=2, n_shared=2,\n",
    "#     cat_idxs=cat_idxs,\n",
    "#     cat_dims=cat_dims,\n",
    "#     cat_emb_dim=1,\n",
    "#     lambda_sparse=1e-4, momentum=0.3, clip_value=2.,\n",
    "#     optimizer_fn=torch.optim.Adam,\n",
    "#     optimizer_params=dict(lr=2e-2),\n",
    "#     scheduler_params={\"gamma\": 0.95, \"step_size\": 20},\n",
    "#     scheduler_fn=torch.optim.lr_scheduler.StepLR, epsilon=1e-15\n",
    "# )\n",
    "# loaded_clf.load_model(model_path+\".zip\")\n",
    "\n",
    "# # Extract embeddings for the balanced training set using the loaded model\n",
    "# probs, train_embeddings = loaded_clf.predict_proba(X_train_balanced)\n",
    "\n",
    "# print(\"Shape of train_embeddings:\", train_embeddings.shape)"
   ]
  },
  {
   "cell_type": "code",
   "execution_count": 18,
   "metadata": {},
   "outputs": [],
   "source": [
    "# print(train_embeddings.shape)"
   ]
  },
  {
   "cell_type": "markdown",
   "metadata": {},
   "source": [
    "### Predictions\n"
   ]
  },
  {
   "cell_type": "code",
   "execution_count": 19,
   "metadata": {},
   "outputs": [
    {
     "name": "stdout",
     "output_type": "stream",
     "text": [
      "BEST VALID SCORE FOR forest-cover-type : 0.878260196079697\n",
      "FINAL TEST SCORE FOR forest-cover-type : 0.8811132242713183\n"
     ]
    }
   ],
   "source": [
    "# To get final results you may need to use a mapping for classes \n",
    "# as you are allowed to use targets like [\"yes\", \"no\", \"maybe\", \"I don't know\"]\n",
    "\n",
    "preds_mapper = { idx : class_name for idx, class_name in enumerate(clf.classes_)}\n",
    "\n",
    "preds = clf.predict_proba(X_test)\n",
    "\n",
    "y_pred = np.vectorize(preds_mapper.get)(np.argmax(preds, axis=1))\n",
    "\n",
    "test_acc = accuracy_score(y_pred=y_pred, y_true=y_test)\n",
    "\n",
    "print(f\"BEST VALID SCORE FOR {dataset_name} : {clf.best_cost}\")\n",
    "print(f\"FINAL TEST SCORE FOR {dataset_name} : {test_acc}\")"
   ]
  },
  {
   "cell_type": "code",
   "execution_count": 20,
   "metadata": {},
   "outputs": [
    {
     "name": "stdout",
     "output_type": "stream",
     "text": [
      "FINAL TEST SCORE FOR forest-cover-type : 0.8811132242713183\n"
     ]
    }
   ],
   "source": [
    "# or you can simply use the predict method\n",
    "\n",
    "y_pred = clf.predict(X_test)\n",
    "test_acc = accuracy_score(y_pred=y_pred, y_true=y_test)\n",
    "print(f\"FINAL TEST SCORE FOR {dataset_name} : {test_acc}\")"
   ]
  },
  {
   "cell_type": "markdown",
   "metadata": {},
   "source": [
    "# Save and load Model"
   ]
  },
  {
   "cell_type": "code",
   "execution_count": 21,
   "metadata": {},
   "outputs": [
    {
     "name": "stdout",
     "output_type": "stream",
     "text": [
      "Successfully saved model at test_model.zip\n"
     ]
    }
   ],
   "source": [
    "# save state dict\n",
    "saved_filename = clf.save_model('test_model')"
   ]
  },
  {
   "cell_type": "code",
   "execution_count": 22,
   "metadata": {},
   "outputs": [
    {
     "name": "stderr",
     "output_type": "stream",
     "text": [
      "/home/paritosh/workspace/tabnet/pytorch_tabnet/abstract_model.py:82: UserWarning: Device used : cuda\n",
      "  warnings.warn(f\"Device used : {self.device}\")\n"
     ]
    }
   ],
   "source": [
    "# define new model and load save parameters\n",
    "loaded_clf = TabNetClassifier()\n",
    "loaded_clf.load_model(saved_filename)"
   ]
  },
  {
   "cell_type": "code",
   "execution_count": 23,
   "metadata": {},
   "outputs": [
    {
     "name": "stdout",
     "output_type": "stream",
     "text": [
      "FINAL TEST SCORE FOR forest-cover-type : 0.8811132242713183\n"
     ]
    }
   ],
   "source": [
    "loaded_preds = loaded_clf.predict_proba(X_test)\n",
    "loaded_y_pred = np.vectorize(preds_mapper.get)(np.argmax(loaded_preds, axis=1))\n",
    "\n",
    "loaded_test_acc = accuracy_score(y_pred=loaded_y_pred, y_true=y_test)\n",
    "\n",
    "print(f\"FINAL TEST SCORE FOR {dataset_name} : {loaded_test_acc}\")"
   ]
  },
  {
   "cell_type": "code",
   "execution_count": 24,
   "metadata": {},
   "outputs": [],
   "source": [
    "assert(test_acc == loaded_test_acc)"
   ]
  },
  {
   "cell_type": "markdown",
   "metadata": {},
   "source": [
    "# Global explainability : feat importance summing to 1"
   ]
  },
  {
   "cell_type": "code",
   "execution_count": 25,
   "metadata": {},
   "outputs": [
    {
     "data": {
      "text/plain": [
       "array([1.38007383e-01, 5.40572371e-02, 2.08481290e-05, 3.04097697e-02,\n",
       "       4.66621519e-02, 5.57399268e-02, 2.18767870e-02, 3.26327055e-02,\n",
       "       0.00000000e+00, 9.47937260e-03, 6.54386397e-02, 2.31019880e-02,\n",
       "       1.63795704e-02, 5.52711972e-02, 2.18987404e-05, 7.51643102e-03,\n",
       "       1.72224614e-04, 3.52424343e-03, 7.82578043e-03, 3.29549723e-03,\n",
       "       2.23850224e-02, 1.13340070e-02, 6.85158329e-04, 5.21424728e-03,\n",
       "       1.37747461e-03, 8.14274704e-02, 1.63934238e-02, 7.89559229e-03,\n",
       "       1.38438038e-03, 6.21978586e-03, 8.96083329e-05, 1.35931808e-02,\n",
       "       1.60578096e-02, 1.54808904e-04, 1.73355280e-02, 2.51950511e-02,\n",
       "       1.75935974e-02, 1.05326157e-02, 6.58263802e-03, 5.28765037e-04,\n",
       "       1.39080316e-03, 2.88413796e-03, 1.96212968e-02, 5.26950615e-03,\n",
       "       3.31341900e-03, 4.12516919e-04, 1.77276570e-02, 2.70825486e-03,\n",
       "       1.47649604e-04, 2.12178995e-02, 2.61320131e-04, 2.07515766e-02,\n",
       "       2.33587293e-02, 4.75214155e-02])"
      ]
     },
     "execution_count": 25,
     "metadata": {},
     "output_type": "execute_result"
    }
   ],
   "source": [
    "clf.feature_importances_"
   ]
  },
  {
   "cell_type": "markdown",
   "metadata": {},
   "source": [
    "# Local explainability and masks"
   ]
  },
  {
   "cell_type": "code",
   "execution_count": 26,
   "metadata": {},
   "outputs": [],
   "source": [
    "explain_matrix, masks = clf.explain(X_test)"
   ]
  },
  {
   "cell_type": "code",
   "execution_count": 27,
   "metadata": {},
   "outputs": [
    {
     "data": {
      "image/png": "[encoded data removed]",
      "text/plain": [
       "<Figure size 2000x2000 with 5 Axes>"
      ]
     },
     "metadata": {},
     "output_type": "display_data"
    }
   ],
   "source": [
    "fig, axs = plt.subplots(1, 5, figsize=(20,20))\n",
    "\n",
    "for i in range(5):\n",
    "    axs[i].imshow(masks[i][:50])\n",
    "    axs[i].set_title(f\"mask {i}\")"
   ]
  },
  {
   "cell_type": "markdown",
   "metadata": {},
   "source": [
    "# XGB"
   ]
  },
  {
   "cell_type": "code",
   "execution_count": 28,
   "metadata": {},
   "outputs": [],
   "source": [
    "n_estimators = 1000 if not os.getenv(\"CI\", False) else 20"
   ]
  },
  {
   "cell_type": "code",
   "execution_count": 30,
   "metadata": {
    "scrolled": true
   },
   "outputs": [
    {
     "ename": "ValueError",
     "evalue": "Invalid classes inferred from unique values of `y`.  Expected: [0 1 2 3 4 5 6], got [1 2 3 4 5 6 7]",
     "output_type": "error",
     "traceback": [
      "\u001b[0;31m---------------------------------------------------------------------------\u001b[0m",
      "\u001b[0;31mValueError\u001b[0m                                Traceback (most recent call last)",
      "Cell \u001b[0;32mIn[30], line 26\u001b[0m\n\u001b[1;32m      1\u001b[0m \u001b[38;5;28;01mfrom\u001b[39;00m \u001b[38;5;21;01mxgboost\u001b[39;00m \u001b[38;5;28;01mimport\u001b[39;00m XGBClassifier\n\u001b[1;32m      3\u001b[0m clf_xgb \u001b[38;5;241m=\u001b[39m XGBClassifier(max_depth\u001b[38;5;241m=\u001b[39m\u001b[38;5;241m8\u001b[39m,\n\u001b[1;32m      4\u001b[0m     learning_rate\u001b[38;5;241m=\u001b[39m\u001b[38;5;241m0.1\u001b[39m,\n\u001b[1;32m      5\u001b[0m     n_estimators\u001b[38;5;241m=\u001b[39mn_estimators,\n\u001b[0;32m   (...)\u001b[0m\n\u001b[1;32m     23\u001b[0m     random_state\u001b[38;5;241m=\u001b[39m\u001b[38;5;241m0\u001b[39m,\n\u001b[1;32m     24\u001b[0m     seed\u001b[38;5;241m=\u001b[39m\u001b[38;5;28;01mNone\u001b[39;00m,)\n\u001b[0;32m---> 26\u001b[0m \u001b[43mclf_xgb\u001b[49m\u001b[38;5;241;43m.\u001b[39;49m\u001b[43mfit\u001b[49m\u001b[43m(\u001b[49m\u001b[43mX_train\u001b[49m\u001b[43m,\u001b[49m\u001b[43m \u001b[49m\u001b[43my_train\u001b[49m\u001b[43m,\u001b[49m\n\u001b[1;32m     27\u001b[0m \u001b[43m            \u001b[49m\u001b[43meval_set\u001b[49m\u001b[38;5;241;43m=\u001b[39;49m\u001b[43m[\u001b[49m\u001b[43m(\u001b[49m\u001b[43mX_valid\u001b[49m\u001b[43m,\u001b[49m\u001b[43m \u001b[49m\u001b[43my_valid\u001b[49m\u001b[43m)\u001b[49m\u001b[43m]\u001b[49m\u001b[43m,\u001b[49m\n\u001b[1;32m     28\u001b[0m \u001b[43m            \u001b[49m\u001b[43mearly_stopping_rounds\u001b[49m\u001b[38;5;241;43m=\u001b[39;49m\u001b[38;5;241;43m40\u001b[39;49m\u001b[43m,\u001b[49m\n\u001b[1;32m     29\u001b[0m \u001b[43m            \u001b[49m\u001b[43mverbose\u001b[49m\u001b[38;5;241;43m=\u001b[39;49m\u001b[38;5;241;43m10\u001b[39;49m\u001b[43m)\u001b[49m\n",
      "File \u001b[0;32m~/anaconda3/envs/torch/lib/python3.11/site-packages/xgboost/core.py:730\u001b[0m, in \u001b[0;36mrequire_keyword_args.<locals>.throw_if.<locals>.inner_f\u001b[0;34m(*args, **kwargs)\u001b[0m\n\u001b[1;32m    728\u001b[0m \u001b[38;5;28;01mfor\u001b[39;00m k, arg \u001b[38;5;129;01min\u001b[39;00m \u001b[38;5;28mzip\u001b[39m(sig\u001b[38;5;241m.\u001b[39mparameters, args):\n\u001b[1;32m    729\u001b[0m     kwargs[k] \u001b[38;5;241m=\u001b[39m arg\n\u001b[0;32m--> 730\u001b[0m \u001b[38;5;28;01mreturn\u001b[39;00m \u001b[43mfunc\u001b[49m\u001b[43m(\u001b[49m\u001b[38;5;241;43m*\u001b[39;49m\u001b[38;5;241;43m*\u001b[39;49m\u001b[43mkwargs\u001b[49m\u001b[43m)\u001b[49m\n",
      "File \u001b[0;32m~/anaconda3/envs/torch/lib/python3.11/site-packages/xgboost/sklearn.py:1471\u001b[0m, in \u001b[0;36mXGBClassifier.fit\u001b[0;34m(self, X, y, sample_weight, base_margin, eval_set, eval_metric, early_stopping_rounds, verbose, xgb_model, sample_weight_eval_set, base_margin_eval_set, feature_weights, callbacks)\u001b[0m\n\u001b[1;32m   1466\u001b[0m     expected_classes \u001b[38;5;241m=\u001b[39m \u001b[38;5;28mself\u001b[39m\u001b[38;5;241m.\u001b[39mclasses_\n\u001b[1;32m   1467\u001b[0m \u001b[38;5;28;01mif\u001b[39;00m (\n\u001b[1;32m   1468\u001b[0m     classes\u001b[38;5;241m.\u001b[39mshape \u001b[38;5;241m!=\u001b[39m expected_classes\u001b[38;5;241m.\u001b[39mshape\n\u001b[1;32m   1469\u001b[0m     \u001b[38;5;129;01mor\u001b[39;00m \u001b[38;5;129;01mnot\u001b[39;00m (classes \u001b[38;5;241m==\u001b[39m expected_classes)\u001b[38;5;241m.\u001b[39mall()\n\u001b[1;32m   1470\u001b[0m ):\n\u001b[0;32m-> 1471\u001b[0m     \u001b[38;5;28;01mraise\u001b[39;00m \u001b[38;5;167;01mValueError\u001b[39;00m(\n\u001b[1;32m   1472\u001b[0m         \u001b[38;5;124mf\u001b[39m\u001b[38;5;124m\"\u001b[39m\u001b[38;5;124mInvalid classes inferred from unique values of `y`.  \u001b[39m\u001b[38;5;124m\"\u001b[39m\n\u001b[1;32m   1473\u001b[0m         \u001b[38;5;124mf\u001b[39m\u001b[38;5;124m\"\u001b[39m\u001b[38;5;124mExpected: \u001b[39m\u001b[38;5;132;01m{\u001b[39;00mexpected_classes\u001b[38;5;132;01m}\u001b[39;00m\u001b[38;5;124m, got \u001b[39m\u001b[38;5;132;01m{\u001b[39;00mclasses\u001b[38;5;132;01m}\u001b[39;00m\u001b[38;5;124m\"\u001b[39m\n\u001b[1;32m   1474\u001b[0m     )\n\u001b[1;32m   1476\u001b[0m params \u001b[38;5;241m=\u001b[39m \u001b[38;5;28mself\u001b[39m\u001b[38;5;241m.\u001b[39mget_xgb_params()\n\u001b[1;32m   1478\u001b[0m \u001b[38;5;28;01mif\u001b[39;00m \u001b[38;5;28mcallable\u001b[39m(\u001b[38;5;28mself\u001b[39m\u001b[38;5;241m.\u001b[39mobjective):\n",
      "\u001b[0;31mValueError\u001b[0m: Invalid classes inferred from unique values of `y`.  Expected: [0 1 2 3 4 5 6], got [1 2 3 4 5 6 7]"
     ]
    }
   ],
   "source": [
    "from xgboost import XGBClassifier\n",
    "\n",
    "clf_xgb = XGBClassifier(max_depth=8,\n",
    "    learning_rate=0.1,\n",
    "    n_estimators=n_estimators,\n",
    "    verbosity=0,\n",
    "    silent=None,\n",
    "    objective=\"multi:softmax\",\n",
    "    booster='gbtree',\n",
    "    n_jobs=-1,\n",
    "    nthread=None,\n",
    "    gamma=0,\n",
    "    min_child_weight=1,\n",
    "    max_delta_step=0,\n",
    "    subsample=0.7,\n",
    "    colsample_bytree=1,\n",
    "    colsample_bylevel=1,\n",
    "    colsample_bynode=1,\n",
    "    reg_alpha=0,\n",
    "    reg_lambda=1,\n",
    "    scale_pos_weight=1,\n",
    "    base_score=0.5,\n",
    "    random_state=0,\n",
    "    seed=None,)\n",
    "\n",
    "clf_xgb.fit(X_train, y_train,\n",
    "            eval_set=[(X_valid, y_valid)],\n",
    "            early_stopping_rounds=40,\n",
    "            verbose=10)"
   ]
  },
  {
   "cell_type": "code",
   "execution_count": null,
   "metadata": {},
   "outputs": [],
   "source": [
    "preds_valid = np.array(clf_xgb.predict_proba(X_valid, ))\n",
    "valid_acc = accuracy_score(y_pred=np.argmax(preds_valid, axis=1) + 1, y_true=y_valid)\n",
    "print(valid_acc)\n",
    "\n",
    "preds_test = np.array(clf_xgb.predict_proba(X_test))\n",
    "test_acc = accuracy_score(y_pred=np.argmax(preds_test, axis=1) + 1, y_true=y_test)\n",
    "print(test_acc)"
   ]
  },
  {
   "cell_type": "code",
   "execution_count": null,
   "metadata": {},
   "outputs": [],
   "source": []
  }
 ],
 "metadata": {
  "kernelspec": {
   "display_name": "Python 3",
   "language": "python",
   "name": "python3"
  },
  "language_info": {
   "codemirror_mode": {
    "name": "ipython",
    "version": 3
   },
   "file_extension": ".py",
   "mimetype": "text/x-python",
   "name": "python",
   "nbconvert_exporter": "python",
   "pygments_lexer": "ipython3",
   "version": "3.11.5"
  },
  "toc": {
   "base_numbering": 1,
   "nav_menu": {},
   "number_sections": true,
   "sideBar": true,
   "skip_h1_title": false,
   "title_cell": "Table of Contents",
   "title_sidebar": "Contents",
   "toc_cell": false,
   "toc_position": {},
   "toc_section_display": true,
   "toc_window_display": false
  }
 },
 "nbformat": 4,
 "nbformat_minor": 2
}
