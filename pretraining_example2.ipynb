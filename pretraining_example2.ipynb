{
 "cells": [
  {
   "cell_type": "code",
   "execution_count": 1,
   "metadata": {},
   "outputs": [],
   "source": [
    "%load_ext autoreload\n",
    "%autoreload 2"
   ]
  },
  {
   "cell_type": "code",
   "execution_count": 2,
   "metadata": {},
   "outputs": [],
   "source": [
    "from pytorch_tabnet.tab_model import TabNetClassifier\n",
    "\n",
    "import torch\n",
    "from sklearn.preprocessing import LabelEncoder\n",
    "from sklearn.metrics import roc_auc_score\n",
    "from sklearn.model_selection import train_test_split\n",
    "\n",
    "import pandas as pd\n",
    "import numpy as np\n",
    "np.random.seed(0)\n",
    "\n",
    "import os\n",
    "import wget\n",
    "from pathlib import Path\n",
    "\n",
    "from matplotlib import pyplot as plt\n",
    "%matplotlib inline"
   ]
  },
  {
   "cell_type": "code",
   "execution_count": 3,
   "metadata": {},
   "outputs": [
    {
     "name": "stdout",
     "output_type": "stream",
     "text": [
      "device: cuda\n"
     ]
    }
   ],
   "source": [
    "# check if using cuda\n",
    "if torch.cuda.is_available():\n",
    "    device = 'cuda'\n",
    "else:\n",
    "    device = 'cpu'\n",
    "print(f'device: {device}')"
   ]
  },
  {
   "cell_type": "markdown",
   "metadata": {},
   "source": [
    "# Load data and split"
   ]
  },
  {
   "cell_type": "code",
   "execution_count": 4,
   "metadata": {},
   "outputs": [],
   "source": [
    "target = \"Covertype\"\n",
    "\n",
    "bool_columns = [\n",
    "    \"Wilderness_Area1\", \"Wilderness_Area2\", \"Wilderness_Area3\",\n",
    "    \"Wilderness_Area4\", \"Soil_Type1\", \"Soil_Type2\", \"Soil_Type3\", \"Soil_Type4\",\n",
    "    \"Soil_Type5\", \"Soil_Type6\", \"Soil_Type7\", \"Soil_Type8\", \"Soil_Type9\",\n",
    "    \"Soil_Type10\", \"Soil_Type11\", \"Soil_Type12\", \"Soil_Type13\", \"Soil_Type14\",\n",
    "    \"Soil_Type15\", \"Soil_Type16\", \"Soil_Type17\", \"Soil_Type18\", \"Soil_Type19\",\n",
    "    \"Soil_Type20\", \"Soil_Type21\", \"Soil_Type22\", \"Soil_Type23\", \"Soil_Type24\",\n",
    "    \"Soil_Type25\", \"Soil_Type26\", \"Soil_Type27\", \"Soil_Type28\", \"Soil_Type29\",\n",
    "    \"Soil_Type30\", \"Soil_Type31\", \"Soil_Type32\", \"Soil_Type33\", \"Soil_Type34\",\n",
    "    \"Soil_Type35\", \"Soil_Type36\", \"Soil_Type37\", \"Soil_Type38\", \"Soil_Type39\",\n",
    "    \"Soil_Type40\"\n",
    "]\n",
    "\n",
    "int_columns = [\n",
    "    \"Elevation\", \"Aspect\", \"Slope\", \"Horizontal_Distance_To_Hydrology\",\n",
    "    \"Vertical_Distance_To_Hydrology\", \"Horizontal_Distance_To_Roadways\",\n",
    "    \"Hillshade_9am\", \"Hillshade_Noon\", \"Hillshade_3pm\",\n",
    "    \"Horizontal_Distance_To_Fire_Points\"\n",
    "]\n",
    "\n",
    "feature_columns = (\n",
    "    int_columns + bool_columns + [target])"
   ]
  },
  {
   "cell_type": "code",
   "execution_count": 5,
   "metadata": {},
   "outputs": [],
   "source": [
    "# train = pd.read_csv(out, header=None, names=feature_columns)\n",
    "train = pd.read_csv('data/forest-cover-type.csv', header=None, names=feature_columns)\n",
    "# train = pd.read_csv('data/synthetic_easy.csv', header=None)\n",
    "\n",
    "n_total = len(train)\n",
    "\n",
    "# Train, val and test split follows\n",
    "# Rory Mitchell, Andrey Adinets, Thejaswi Rao, and Eibe Frank.\n",
    "# Xgboost: Scalable GPU accelerated learning. arXiv:1806.11248, 2018.\n",
    "\n",
    "train_val_indices, test_indices = train_test_split(\n",
    "    range(n_total), test_size=0.2, random_state=0)\n",
    "train_indices, valid_indices = train_test_split(\n",
    "    train_val_indices, test_size=0.2 / 0.6, random_state=0)"
   ]
  },
  {
   "cell_type": "markdown",
   "metadata": {},
   "source": [
    "# Simple preprocessing\n",
    "\n",
    "Label encode categorical features and fill empty cells."
   ]
  },
  {
   "cell_type": "code",
   "execution_count": 6,
   "metadata": {},
   "outputs": [],
   "source": [
    "categorical_columns = []\n",
    "categorical_dims =  {}\n",
    "for col in train.columns[train.dtypes == object]:\n",
    "    print(col, train[col].nunique())\n",
    "    l_enc = LabelEncoder()\n",
    "    train[col] = train[col].fillna(\"VV_likely\")\n",
    "    train[col] = l_enc.fit_transform(train[col].values)\n",
    "    categorical_columns.append(col)\n",
    "    categorical_dims[col] = len(l_enc.classes_)\n",
    "\n",
    "for col in train.columns[train.dtypes == 'float64']:\n",
    "    train.fillna(train.loc[train_indices, col].mean(), inplace=True)"
   ]
  },
  {
   "cell_type": "markdown",
   "metadata": {},
   "source": [
    "# Define categorical features for categorical embeddings"
   ]
  },
  {
   "cell_type": "code",
   "execution_count": 7,
   "metadata": {},
   "outputs": [],
   "source": [
    "# This is a generic pipeline but actually no categorical features are available for this dataset\n",
    "\n",
    "unused_feat = []\n",
    "\n",
    "features = [ col for col in train.columns if col not in unused_feat+[target]] \n",
    "\n",
    "cat_idxs = [ i for i, f in enumerate(features) if f in categorical_columns]\n",
    "\n",
    "cat_dims = [ categorical_dims[f] for i, f in enumerate(features) if f in categorical_columns]"
   ]
  },
  {
   "cell_type": "code",
   "execution_count": 8,
   "metadata": {},
   "outputs": [],
   "source": [
    "if os.getenv(\"CI\", False):\n",
    "# Take only a subsample to run CI\n",
    "    X_train = train[features].values[train_indices][:1000,:]\n",
    "    y_train = train[target].values[train_indices][:1000]\n",
    "else:\n",
    "    X_train = train[features].values[train_indices]\n",
    "    y_train = train[target].values[train_indices]\n",
    "\n",
    "X_valid = train[features].values[valid_indices]\n",
    "y_valid = train[target].values[valid_indices]\n",
    "\n",
    "X_test = train[features].values[test_indices]\n",
    "y_test = train[target].values[test_indices]"
   ]
  },
  {
   "cell_type": "code",
   "execution_count": 9,
   "metadata": {},
   "outputs": [
    {
     "name": "stdout",
     "output_type": "stream",
     "text": [
      "X_train.shape: (309872, 54), y_train.shape: (309872,)\n",
      "X_valid.shape: (154937, 54), y_valid.shape: (154937,)\n",
      "X_test.shape: (116203, 54), y_test.shape: (116203,)\n"
     ]
    }
   ],
   "source": [
    "print(f\"X_train.shape: {X_train.shape}, y_train.shape: {y_train.shape}\")\n",
    "print(f\"X_valid.shape: {X_valid.shape}, y_valid.shape: {y_valid.shape}\")\n",
    "print(f\"X_test.shape: {X_test.shape}, y_test.shape: {y_test.shape}\")"
   ]
  },
  {
   "cell_type": "markdown",
   "metadata": {},
   "source": [
    "# Network parameters"
   ]
  },
  {
   "cell_type": "code",
   "execution_count": 10,
   "metadata": {},
   "outputs": [],
   "source": [
    "from pytorch_tabnet.pretraining import TabNetPretrainer"
   ]
  },
  {
   "cell_type": "code",
   "execution_count": 11,
   "metadata": {},
   "outputs": [
    {
     "name": "stderr",
     "output_type": "stream",
     "text": [
      "/home/paritosh/workspace/tabnet/pytorch_tabnet/abstract_model.py:82: UserWarning: Device used : cuda\n",
      "  warnings.warn(f\"Device used : {self.device}\")\n"
     ]
    }
   ],
   "source": [
    "# TabNetPretrainer\n",
    "unsupervised_model = TabNetPretrainer(\n",
    "    cat_idxs=cat_idxs,\n",
    "    cat_dims=cat_dims,\n",
    "    cat_emb_dim=3,\n",
    "    optimizer_fn=torch.optim.Adam,\n",
    "    optimizer_params=dict(lr=2e-2),\n",
    "    mask_type='entmax', # \"sparsemax\",\n",
    "    n_shared_decoder=1, # nb shared glu for decoding\n",
    "    n_indep_decoder=1, # nb independent glu for decoding\n",
    "#     grouped_features=[[0, 1]], # you can group features together here\n",
    "    verbose=5,\n",
    ")"
   ]
  },
  {
   "cell_type": "markdown",
   "metadata": {},
   "source": [
    "# Self Supervised Training"
   ]
  },
  {
   "cell_type": "code",
   "execution_count": 12,
   "metadata": {},
   "outputs": [],
   "source": [
    "max_epochs = 1000 if not os.getenv(\"CI\", False) else 2 # 1000\n",
    "# max_epochs = 10 if not os.getenv(\"CI\", False) else 2"
   ]
  },
  {
   "cell_type": "code",
   "execution_count": 13,
   "metadata": {
    "scrolled": false
   },
   "outputs": [
    {
     "name": "stderr",
     "output_type": "stream",
     "text": [
      "/home/paritosh/workspace/tabnet/pytorch_tabnet/abstract_model.py:687: UserWarning: No early stopping will be performed, last training weights will be used.\n",
      "  warnings.warn(wrn_msg)\n"
     ]
    },
    {
     "name": "stdout",
     "output_type": "stream",
     "text": [
      "epoch 0  | loss: 73.43886| val_0_unsup_loss_numpy: 9.36476993560791|  0:00:05s\n",
      "epoch 5  | loss: 9.04751 | val_0_unsup_loss_numpy: 257.0727844238281|  0:00:29s\n",
      "epoch 10 | loss: 5.34902 | val_0_unsup_loss_numpy: 3891.45751953125|  0:00:52s\n",
      "epoch 15 | loss: 5.14967 | val_0_unsup_loss_numpy: 1196.85107421875|  0:01:14s\n",
      "epoch 20 | loss: 3.9702  | val_0_unsup_loss_numpy: 104.57433319091797|  0:01:37s\n",
      "epoch 25 | loss: 3.82389 | val_0_unsup_loss_numpy: 1984.650390625|  0:02:00s\n",
      "epoch 30 | loss: 4.83238 | val_0_unsup_loss_numpy: 462.0274658203125|  0:02:23s\n",
      "epoch 35 | loss: 4.59304 | val_0_unsup_loss_numpy: 632.0960083007812|  0:02:46s\n",
      "epoch 40 | loss: 3.3085  | val_0_unsup_loss_numpy: 449.5375061035156|  0:03:09s\n",
      "epoch 45 | loss: 3.41806 | val_0_unsup_loss_numpy: 280.5318298339844|  0:03:32s\n",
      "epoch 50 | loss: 3.23621 | val_0_unsup_loss_numpy: 186.3553924560547|  0:03:54s\n",
      "epoch 55 | loss: 3.50086 | val_0_unsup_loss_numpy: 132.52859497070312|  0:04:16s\n",
      "epoch 60 | loss: 3.03828 | val_0_unsup_loss_numpy: 175.88229370117188|  0:04:38s\n",
      "epoch 65 | loss: 2.51145 | val_0_unsup_loss_numpy: 877.2703247070312|  0:05:01s\n",
      "epoch 70 | loss: 2.52516 | val_0_unsup_loss_numpy: 4.910860061645508|  0:05:23s\n",
      "epoch 75 | loss: 2.97604 | val_0_unsup_loss_numpy: 342.888671875|  0:05:46s\n",
      "epoch 80 | loss: 2.57777 | val_0_unsup_loss_numpy: 374.832763671875|  0:06:09s\n",
      "epoch 85 | loss: 2.94566 | val_0_unsup_loss_numpy: 77.51429748535156|  0:06:31s\n",
      "epoch 90 | loss: 2.17418 | val_0_unsup_loss_numpy: 26.976320266723633|  0:06:54s\n",
      "epoch 95 | loss: 2.52116 | val_0_unsup_loss_numpy: 76.79801177978516|  0:07:16s\n",
      "epoch 100| loss: 2.4596  | val_0_unsup_loss_numpy: 138.30165100097656|  0:07:38s\n",
      "epoch 105| loss: 3.00604 | val_0_unsup_loss_numpy: 93.80782318115234|  0:08:01s\n",
      "epoch 110| loss: 2.92829 | val_0_unsup_loss_numpy: 138.07676696777344|  0:08:23s\n",
      "epoch 115| loss: 2.14799 | val_0_unsup_loss_numpy: 17.74268913269043|  0:08:45s\n",
      "epoch 120| loss: 2.02883 | val_0_unsup_loss_numpy: 277.80657958984375|  0:09:07s\n",
      "epoch 125| loss: 1.90174 | val_0_unsup_loss_numpy: 190.4344940185547|  0:09:30s\n",
      "epoch 130| loss: 1.59087 | val_0_unsup_loss_numpy: 96.15135192871094|  0:09:53s\n",
      "epoch 135| loss: 1.86471 | val_0_unsup_loss_numpy: 95.66961669921875|  0:10:15s\n",
      "epoch 140| loss: 2.33056 | val_0_unsup_loss_numpy: 17.76740074157715|  0:10:37s\n",
      "epoch 145| loss: 2.78727 | val_0_unsup_loss_numpy: 17.448230743408203|  0:10:59s\n",
      "epoch 150| loss: 2.26358 | val_0_unsup_loss_numpy: 7.7161102294921875|  0:11:22s\n",
      "epoch 155| loss: 1.74756 | val_0_unsup_loss_numpy: 51.722198486328125|  0:11:45s\n",
      "epoch 160| loss: 2.60219 | val_0_unsup_loss_numpy: 25.39967918395996|  0:12:06s\n",
      "epoch 165| loss: 2.76234 | val_0_unsup_loss_numpy: 8.09395980834961|  0:12:28s\n",
      "epoch 170| loss: 1.82004 | val_0_unsup_loss_numpy: 114.01582336425781|  0:12:51s\n",
      "epoch 175| loss: 2.02244 | val_0_unsup_loss_numpy: 46.87152099609375|  0:13:13s\n",
      "epoch 180| loss: 2.17713 | val_0_unsup_loss_numpy: 22.866439819335938|  0:13:36s\n",
      "epoch 185| loss: 1.40159 | val_0_unsup_loss_numpy: 136.47378540039062|  0:13:58s\n",
      "epoch 190| loss: 1.59368 | val_0_unsup_loss_numpy: 81.5719985961914|  0:14:21s\n",
      "epoch 195| loss: 1.91854 | val_0_unsup_loss_numpy: 187.87936401367188|  0:14:44s\n",
      "epoch 200| loss: 1.78376 | val_0_unsup_loss_numpy: 6.685800075531006|  0:15:06s\n",
      "epoch 205| loss: 1.75639 | val_0_unsup_loss_numpy: 11.379329681396484|  0:15:28s\n",
      "epoch 210| loss: 1.43114 | val_0_unsup_loss_numpy: 105.27263641357422|  0:15:51s\n",
      "epoch 215| loss: 1.42767 | val_0_unsup_loss_numpy: 64.70175170898438|  0:16:13s\n",
      "epoch 220| loss: 1.57244 | val_0_unsup_loss_numpy: 3680.287353515625|  0:16:35s\n",
      "epoch 225| loss: 1.24945 | val_0_unsup_loss_numpy: 53.537620544433594|  0:16:55s\n",
      "epoch 230| loss: 1.4938  | val_0_unsup_loss_numpy: 2893.32470703125|  0:17:17s\n",
      "epoch 235| loss: 1.9928  | val_0_unsup_loss_numpy: 49.836551666259766|  0:17:40s\n",
      "epoch 240| loss: 1.35997 | val_0_unsup_loss_numpy: 128.05459594726562|  0:18:03s\n",
      "epoch 245| loss: 1.18445 | val_0_unsup_loss_numpy: 4413.27099609375|  0:18:25s\n",
      "epoch 250| loss: 1.56836 | val_0_unsup_loss_numpy: 799.8873901367188|  0:18:48s\n",
      "epoch 255| loss: 1.36755 | val_0_unsup_loss_numpy: 72.43392181396484|  0:19:10s\n",
      "epoch 260| loss: 1.29797 | val_0_unsup_loss_numpy: 86.71318054199219|  0:19:33s\n",
      "epoch 265| loss: 1.26076 | val_0_unsup_loss_numpy: 34.192378997802734|  0:19:55s\n",
      "epoch 270| loss: 1.18865 | val_0_unsup_loss_numpy: 64.7994384765625|  0:20:18s\n",
      "epoch 275| loss: 1.25523 | val_0_unsup_loss_numpy: 30.040000915527344|  0:20:40s\n",
      "epoch 280| loss: 1.29609 | val_0_unsup_loss_numpy: 40.310508728027344|  0:21:03s\n",
      "epoch 285| loss: 1.26932 | val_0_unsup_loss_numpy: 1598.1375732421875|  0:21:25s\n",
      "epoch 290| loss: 1.72853 | val_0_unsup_loss_numpy: 21.795909881591797|  0:21:48s\n",
      "epoch 295| loss: 1.29108 | val_0_unsup_loss_numpy: 97.0428466796875|  0:22:10s\n",
      "epoch 300| loss: 1.27699 | val_0_unsup_loss_numpy: 114.6835708618164|  0:22:31s\n",
      "epoch 305| loss: 1.23383 | val_0_unsup_loss_numpy: 74.97962188720703|  0:22:52s\n",
      "epoch 310| loss: 1.38177 | val_0_unsup_loss_numpy: 22.817110061645508|  0:23:14s\n",
      "epoch 315| loss: 1.43725 | val_0_unsup_loss_numpy: 102.5824966430664|  0:23:36s\n",
      "epoch 320| loss: 1.34111 | val_0_unsup_loss_numpy: 49.82078170776367|  0:23:56s\n",
      "epoch 325| loss: 1.22393 | val_0_unsup_loss_numpy: 40.1238899230957|  0:24:19s\n",
      "epoch 330| loss: 1.15239 | val_0_unsup_loss_numpy: 68.00070190429688|  0:24:42s\n",
      "epoch 335| loss: 0.94883 | val_0_unsup_loss_numpy: 231.55604553222656|  0:25:05s\n",
      "epoch 340| loss: 1.36057 | val_0_unsup_loss_numpy: 30.976160049438477|  0:25:28s\n",
      "epoch 345| loss: 0.98704 | val_0_unsup_loss_numpy: 106.55062866210938|  0:25:50s\n",
      "epoch 350| loss: 1.36952 | val_0_unsup_loss_numpy: 33.03499984741211|  0:26:12s\n",
      "epoch 355| loss: 1.08009 | val_0_unsup_loss_numpy: 80.85697937011719|  0:26:35s\n",
      "epoch 360| loss: 0.99119 | val_0_unsup_loss_numpy: 207.47744750976562|  0:26:57s\n",
      "epoch 365| loss: 1.05657 | val_0_unsup_loss_numpy: 61.02278137207031|  0:27:20s\n",
      "epoch 370| loss: 1.18251 | val_0_unsup_loss_numpy: 91.9349594116211|  0:27:42s\n",
      "epoch 375| loss: 1.12625 | val_0_unsup_loss_numpy: 52.41033935546875|  0:28:05s\n",
      "epoch 380| loss: 1.19087 | val_0_unsup_loss_numpy: 50.731910705566406|  0:28:27s\n",
      "epoch 385| loss: 1.12996 | val_0_unsup_loss_numpy: 108.7275619506836|  0:28:49s\n",
      "epoch 390| loss: 1.10732 | val_0_unsup_loss_numpy: 84.44355773925781|  0:29:11s\n",
      "epoch 395| loss: 1.39927 | val_0_unsup_loss_numpy: 125.79325866699219|  0:29:34s\n",
      "epoch 400| loss: 1.20089 | val_0_unsup_loss_numpy: 37.398338317871094|  0:29:56s\n",
      "epoch 405| loss: 1.05165 | val_0_unsup_loss_numpy: 1034.3958740234375|  0:30:19s\n",
      "epoch 410| loss: 1.0222  | val_0_unsup_loss_numpy: 16.867929458618164|  0:30:41s\n",
      "epoch 415| loss: 1.18959 | val_0_unsup_loss_numpy: 3.820539951324463|  0:31:03s\n",
      "epoch 420| loss: 1.0168  | val_0_unsup_loss_numpy: 54.47092819213867|  0:31:26s\n",
      "epoch 425| loss: 1.05446 | val_0_unsup_loss_numpy: 45.30017852783203|  0:31:48s\n",
      "epoch 430| loss: 0.93412 | val_0_unsup_loss_numpy: 93.99082946777344|  0:32:11s\n",
      "epoch 435| loss: 1.02965 | val_0_unsup_loss_numpy: 70.37821960449219|  0:32:34s\n",
      "epoch 440| loss: 0.97991 | val_0_unsup_loss_numpy: 5.575310230255127|  0:32:56s\n",
      "epoch 445| loss: 1.24391 | val_0_unsup_loss_numpy: 15.892450332641602|  0:33:19s\n",
      "epoch 450| loss: 1.04552 | val_0_unsup_loss_numpy: 47.11745834350586|  0:33:41s\n",
      "epoch 455| loss: 1.00944 | val_0_unsup_loss_numpy: 2.368040084838867|  0:34:04s\n",
      "epoch 460| loss: 0.96984 | val_0_unsup_loss_numpy: 70.60099792480469|  0:34:26s\n",
      "epoch 465| loss: 1.08131 | val_0_unsup_loss_numpy: 106.22769927978516|  0:34:47s\n",
      "epoch 470| loss: 1.06794 | val_0_unsup_loss_numpy: 17.180139541625977|  0:35:07s\n",
      "epoch 475| loss: 1.0042  | val_0_unsup_loss_numpy: 1213162.375|  0:35:29s\n",
      "epoch 480| loss: 0.92564 | val_0_unsup_loss_numpy: 82.19065856933594|  0:35:51s\n",
      "epoch 485| loss: 1.09005 | val_0_unsup_loss_numpy: 47.09756088256836|  0:36:13s\n",
      "epoch 490| loss: 0.92636 | val_0_unsup_loss_numpy: 60.09560012817383|  0:36:36s\n",
      "epoch 495| loss: 1.01775 | val_0_unsup_loss_numpy: 25.884519577026367|  0:36:59s\n",
      "epoch 500| loss: 0.98103 | val_0_unsup_loss_numpy: 116.07206726074219|  0:37:21s\n",
      "epoch 505| loss: 1.162   | val_0_unsup_loss_numpy: 5.859419822692871|  0:37:43s\n",
      "epoch 510| loss: 0.90481 | val_0_unsup_loss_numpy: 64.30931854248047|  0:38:03s\n",
      "epoch 515| loss: 0.90636 | val_0_unsup_loss_numpy: 378839200.0|  0:38:25s\n",
      "epoch 520| loss: 0.9983  | val_0_unsup_loss_numpy: 50.400699615478516|  0:38:48s\n",
      "epoch 525| loss: 1.05386 | val_0_unsup_loss_numpy: 45.45045852661133|  0:39:10s\n",
      "epoch 530| loss: 0.9102  | val_0_unsup_loss_numpy: 144.30238342285156|  0:39:33s\n",
      "epoch 535| loss: 0.91421 | val_0_unsup_loss_numpy: 40.95994186401367|  0:39:54s\n",
      "epoch 540| loss: 0.93589 | val_0_unsup_loss_numpy: 52.44921875|  0:40:16s\n",
      "epoch 545| loss: 1.05668 | val_0_unsup_loss_numpy: 8.792969703674316|  0:40:37s\n",
      "epoch 550| loss: 1.01944 | val_0_unsup_loss_numpy: 45.247379302978516|  0:41:00s\n",
      "epoch 555| loss: 1.01286 | val_0_unsup_loss_numpy: 42.970619201660156|  0:41:22s\n",
      "epoch 560| loss: 0.98487 | val_0_unsup_loss_numpy: 19.311359405517578|  0:41:45s\n",
      "epoch 565| loss: 0.86398 | val_0_unsup_loss_numpy: 87.93817138671875|  0:42:08s\n",
      "epoch 570| loss: 0.92699 | val_0_unsup_loss_numpy: 80.40538024902344|  0:42:30s\n",
      "epoch 575| loss: 0.92679 | val_0_unsup_loss_numpy: 171168432.0|  0:42:53s\n",
      "epoch 580| loss: 1.07416 | val_0_unsup_loss_numpy: 21.59712028503418|  0:43:16s\n",
      "epoch 585| loss: 0.93581 | val_0_unsup_loss_numpy: 51.02819061279297|  0:43:38s\n",
      "epoch 590| loss: 0.96478 | val_0_unsup_loss_numpy: 17.629709243774414|  0:44:00s\n",
      "epoch 595| loss: 0.91209 | val_0_unsup_loss_numpy: 73836.4921875|  0:44:22s\n",
      "epoch 600| loss: 0.87079 | val_0_unsup_loss_numpy: 120.77644348144531|  0:44:44s\n",
      "epoch 605| loss: 0.89478 | val_0_unsup_loss_numpy: 164.0233154296875|  0:45:06s\n",
      "epoch 610| loss: 0.91957 | val_0_unsup_loss_numpy: 116.74034881591797|  0:45:28s\n",
      "epoch 615| loss: 0.90863 | val_0_unsup_loss_numpy: 53.64952850341797|  0:45:51s\n",
      "epoch 620| loss: 0.93731 | val_0_unsup_loss_numpy: 57.39461898803711|  0:46:13s\n",
      "epoch 625| loss: 0.94778 | val_0_unsup_loss_numpy: 76.21273803710938|  0:46:34s\n",
      "epoch 630| loss: 0.9358  | val_0_unsup_loss_numpy: 12.317270278930664|  0:46:57s\n",
      "epoch 635| loss: 0.97615 | val_0_unsup_loss_numpy: 89.60542297363281|  0:47:20s\n",
      "epoch 640| loss: 0.93489 | val_0_unsup_loss_numpy: 15.226639747619629|  0:47:42s\n",
      "epoch 645| loss: 0.91888 | val_0_unsup_loss_numpy: 16.99928092956543|  0:48:03s\n",
      "epoch 650| loss: 0.88232 | val_0_unsup_loss_numpy: 27.533130645751953|  0:48:26s\n",
      "epoch 655| loss: 1.04149 | val_0_unsup_loss_numpy: 20.270240783691406|  0:48:48s\n",
      "epoch 660| loss: 1.00441 | val_0_unsup_loss_numpy: 33.2056884765625|  0:49:09s\n",
      "epoch 665| loss: 0.88748 | val_0_unsup_loss_numpy: 63.59046173095703|  0:49:29s\n",
      "epoch 670| loss: 0.96357 | val_0_unsup_loss_numpy: 10.358260154724121|  0:49:51s\n",
      "epoch 675| loss: 0.85372 | val_0_unsup_loss_numpy: 164.640625|  0:50:14s\n",
      "epoch 680| loss: 0.99063 | val_0_unsup_loss_numpy: 14.5001802444458|  0:50:34s\n",
      "epoch 685| loss: 0.8752  | val_0_unsup_loss_numpy: 20.60527992248535|  0:50:54s\n",
      "epoch 690| loss: 0.85771 | val_0_unsup_loss_numpy: 50.9581413269043|  0:51:16s\n",
      "epoch 695| loss: 0.93955 | val_0_unsup_loss_numpy: 45.86717987060547|  0:51:38s\n",
      "epoch 700| loss: 0.87667 | val_0_unsup_loss_numpy: 5.445040225982666|  0:52:01s\n",
      "epoch 705| loss: 0.91201 | val_0_unsup_loss_numpy: 65.70854187011719|  0:52:23s\n",
      "epoch 710| loss: 0.87322 | val_0_unsup_loss_numpy: 52.68701171875|  0:52:44s\n",
      "epoch 715| loss: 0.92364 | val_0_unsup_loss_numpy: 26.465049743652344|  0:53:07s\n",
      "epoch 720| loss: 0.91643 | val_0_unsup_loss_numpy: 32.15093994140625|  0:53:30s\n",
      "epoch 725| loss: 0.85583 | val_0_unsup_loss_numpy: 72.95025634765625|  0:53:52s\n",
      "epoch 730| loss: 0.92406 | val_0_unsup_loss_numpy: 6.365059852600098|  0:54:14s\n",
      "epoch 735| loss: 0.97888 | val_0_unsup_loss_numpy: 32.52846145629883|  0:54:36s\n",
      "epoch 740| loss: 0.90428 | val_0_unsup_loss_numpy: 42.3721809387207|  0:54:59s\n",
      "epoch 745| loss: 0.9368  | val_0_unsup_loss_numpy: 18.545480728149414|  0:55:22s\n",
      "epoch 750| loss: 0.84668 | val_0_unsup_loss_numpy: 64.18810272216797|  0:55:44s\n",
      "epoch 755| loss: 0.88601 | val_0_unsup_loss_numpy: 52.558441162109375|  0:56:07s\n",
      "epoch 760| loss: 0.88474 | val_0_unsup_loss_numpy: 37.105220794677734|  0:56:29s\n",
      "epoch 765| loss: 0.8591  | val_0_unsup_loss_numpy: 1948939.0|  0:56:50s\n",
      "epoch 770| loss: 0.89199 | val_0_unsup_loss_numpy: 3658.924072265625|  0:57:13s\n",
      "epoch 775| loss: 0.96894 | val_0_unsup_loss_numpy: 11.77853012084961|  0:57:35s\n",
      "epoch 780| loss: 0.91111 | val_0_unsup_loss_numpy: 53011.14453125|  0:57:57s\n",
      "epoch 785| loss: 0.86987 | val_0_unsup_loss_numpy: 20.768590927124023|  0:58:20s\n",
      "epoch 790| loss: 0.94752 | val_0_unsup_loss_numpy: 14.687339782714844|  0:58:42s\n",
      "epoch 795| loss: 0.87672 | val_0_unsup_loss_numpy: 26.76618003845215|  0:59:05s\n",
      "epoch 800| loss: 0.90078 | val_0_unsup_loss_numpy: 38.43410110473633|  0:59:27s\n",
      "epoch 805| loss: 0.9423  | val_0_unsup_loss_numpy: 29.914180755615234|  0:59:50s\n",
      "epoch 810| loss: 0.82604 | val_0_unsup_loss_numpy: 68.75247192382812|  1:00:11s\n",
      "epoch 815| loss: 0.89439 | val_0_unsup_loss_numpy: 40.383819580078125|  1:00:34s\n",
      "epoch 820| loss: 0.90339 | val_0_unsup_loss_numpy: 15.32721996307373|  1:00:57s\n",
      "epoch 825| loss: 0.83794 | val_0_unsup_loss_numpy: 53.64271926879883|  1:01:19s\n",
      "epoch 830| loss: 0.90448 | val_0_unsup_loss_numpy: 16.282339096069336|  1:01:42s\n",
      "epoch 835| loss: 0.84591 | val_0_unsup_loss_numpy: 65.98493957519531|  1:02:04s\n",
      "epoch 840| loss: 0.84095 | val_0_unsup_loss_numpy: 4.562610149383545|  1:02:26s\n",
      "epoch 845| loss: 0.88181 | val_0_unsup_loss_numpy: 17.39611053466797|  1:02:47s\n",
      "epoch 850| loss: 0.88982 | val_0_unsup_loss_numpy: 16.811199188232422|  1:03:07s\n",
      "epoch 855| loss: 0.89689 | val_0_unsup_loss_numpy: 42.33082962036133|  1:03:28s\n",
      "epoch 860| loss: 0.8261  | val_0_unsup_loss_numpy: 54.72003936767578|  1:03:48s\n",
      "epoch 865| loss: 0.9051  | val_0_unsup_loss_numpy: 29.802349090576172|  1:04:10s\n",
      "epoch 870| loss: 0.84192 | val_0_unsup_loss_numpy: 63.97356033325195|  1:04:32s\n",
      "epoch 875| loss: 0.89863 | val_0_unsup_loss_numpy: 14.704130172729492|  1:04:55s\n",
      "epoch 880| loss: 0.86086 | val_0_unsup_loss_numpy: 27.48381996154785|  1:05:17s\n",
      "epoch 885| loss: 0.90331 | val_0_unsup_loss_numpy: 9.967399597167969|  1:05:40s\n",
      "epoch 890| loss: 0.82497 | val_0_unsup_loss_numpy: 29.447439193725586|  1:06:00s\n",
      "epoch 895| loss: 0.86258 | val_0_unsup_loss_numpy: 49.448219299316406|  1:06:22s\n",
      "epoch 900| loss: 0.84516 | val_0_unsup_loss_numpy: 60.42829132080078|  1:06:43s\n",
      "epoch 905| loss: 0.86362 | val_0_unsup_loss_numpy: 13.471179962158203|  1:07:04s\n",
      "epoch 910| loss: 0.89545 | val_0_unsup_loss_numpy: 41.58456039428711|  1:07:27s\n",
      "epoch 915| loss: 0.83123 | val_0_unsup_loss_numpy: 15.11398983001709|  1:07:49s\n",
      "epoch 920| loss: 0.84629 | val_0_unsup_loss_numpy: 51.19942855834961|  1:08:10s\n",
      "epoch 925| loss: 0.87552 | val_0_unsup_loss_numpy: 35.454959869384766|  1:08:33s\n",
      "epoch 930| loss: 0.88878 | val_0_unsup_loss_numpy: 11.540029525756836|  1:08:55s\n",
      "epoch 935| loss: 0.89136 | val_0_unsup_loss_numpy: 58.874759674072266|  1:09:18s\n",
      "epoch 940| loss: 0.93184 | val_0_unsup_loss_numpy: 45.60429000854492|  1:09:38s\n",
      "epoch 945| loss: 0.87442 | val_0_unsup_loss_numpy: 1532609.625|  1:10:01s\n",
      "epoch 950| loss: 0.82771 | val_0_unsup_loss_numpy: 7647502.0|  1:10:23s\n",
      "epoch 955| loss: 0.85337 | val_0_unsup_loss_numpy: 5040.8876953125|  1:10:45s\n",
      "epoch 960| loss: 0.85914 | val_0_unsup_loss_numpy: 4.604859828948975|  1:11:07s\n",
      "epoch 965| loss: 0.8555  | val_0_unsup_loss_numpy: 12.302969932556152|  1:11:29s\n",
      "epoch 970| loss: 0.83717 | val_0_unsup_loss_numpy: 34.573760986328125|  1:11:52s\n",
      "epoch 975| loss: 0.81665 | val_0_unsup_loss_numpy: 37.7553596496582|  1:12:14s\n",
      "epoch 980| loss: 0.85781 | val_0_unsup_loss_numpy: 35.011409759521484|  1:12:36s\n",
      "epoch 985| loss: 0.83159 | val_0_unsup_loss_numpy: 18.334150314331055|  1:12:58s\n",
      "epoch 990| loss: 0.83412 | val_0_unsup_loss_numpy: 91.373046875|  1:13:20s\n",
      "epoch 995| loss: 0.87293 | val_0_unsup_loss_numpy: 7.438509941101074|  1:13:40s\n"
     ]
    }
   ],
   "source": [
    "# unsupervised_model.fit(\n",
    "#     X_train=X_train,\n",
    "#     eval_set=[X_valid],\n",
    "#     max_epochs=max_epochs , patience=5,\n",
    "#     batch_size=2048, virtual_batch_size=128,\n",
    "#     num_workers=0,\n",
    "#     drop_last=False,\n",
    "#     pretraining_ratio=0.5,\n",
    "# ) \n",
    "\n",
    "unsupervised_model.fit(\n",
    "    X_train=X_train,\n",
    "    eval_set=[X_valid],\n",
    "    max_epochs=max_epochs , patience=0,\n",
    "    batch_size=4096, virtual_batch_size=128,\n",
    "    num_workers=0,\n",
    "    drop_last=False,\n",
    "    pretraining_ratio=0.5,\n",
    ") "
   ]
  },
  {
   "cell_type": "code",
   "execution_count": 14,
   "metadata": {},
   "outputs": [],
   "source": [
    "# Make reconstruction from a dataset\n",
    "reconstructed_X, embedded_X = unsupervised_model.predict(X_valid)\n",
    "assert(reconstructed_X.shape==embedded_X.shape)"
   ]
  },
  {
   "cell_type": "code",
   "execution_count": 15,
   "metadata": {},
   "outputs": [
    {
     "name": "stdout",
     "output_type": "stream",
     "text": [
      "Embeddings shape: (7000, 54)\n",
      "Number of samples: 7000\n"
     ]
    }
   ],
   "source": [
    "# Obtain class-balanced samples from the training data\n",
    "train_balanced = train.groupby(target, group_keys=False).apply(lambda x: x.sample(n=1000, random_state=42))\n",
    "\n",
    "X_train_balanced = train_balanced[features].values\n",
    "y_train_balanced = train_balanced[target].values\n",
    "\n",
    "# Extract embeddings using the pretrained model\n",
    "_, embedded_X_train_balanced = unsupervised_model.predict(X_train_balanced)\n",
    "\n",
    "# Verify the shape of the extracted embeddings\n",
    "print(\"Embeddings shape:\", embedded_X_train_balanced.shape)\n",
    "print(\"Number of samples:\", len(y_train_balanced))"
   ]
  },
  {
   "cell_type": "code",
   "execution_count": 16,
   "metadata": {},
   "outputs": [
    {
     "name": "stdout",
     "output_type": "stream",
     "text": [
      "[t-SNE] Computing 91 nearest neighbors...\n",
      "[t-SNE] Indexed 7000 samples in 0.000s...\n",
      "[t-SNE] Computed neighbors for 7000 samples in 0.166s...\n",
      "[t-SNE] Computed conditional probabilities for sample 1000 / 7000\n",
      "[t-SNE] Computed conditional probabilities for sample 2000 / 7000\n",
      "[t-SNE] Computed conditional probabilities for sample 3000 / 7000\n",
      "[t-SNE] Computed conditional probabilities for sample 4000 / 7000\n",
      "[t-SNE] Computed conditional probabilities for sample 5000 / 7000\n",
      "[t-SNE] Computed conditional probabilities for sample 6000 / 7000\n",
      "[t-SNE] Computed conditional probabilities for sample 7000 / 7000\n",
      "[t-SNE] Mean sigma: 156.271093\n",
      "[t-SNE] KL divergence after 250 iterations with early exaggeration: 74.165871\n",
      "[t-SNE] KL divergence after 1000 iterations: 1.011721\n"
     ]
    }
   ],
   "source": [
    "from sklearn.manifold import TSNE\n",
    "tsne = TSNE(n_components=2, verbose=1)\n",
    "tsne_embeddings = tsne.fit_transform(embedded_X_train_balanced)"
   ]
  },
  {
   "cell_type": "code",
   "execution_count": 17,
   "metadata": {},
   "outputs": [
    {
     "name": "stderr",
     "output_type": "stream",
     "text": [
      "VAT Processing: 100%|██████████| 6997/6997 [06:25<00:00, 18.16it/s] \n",
      "Final loop: 100%|██████████| 7000/7000 [00:00<00:00, 6818422.67it/s]\n",
      "iVAT Processing: 100%|██████████| 6999/6999 [00:00<00:00, 15269.98it/s]\n"
     ]
    },
    {
     "data": {
      "image/png": "[encoded data removed]",
      "text/plain": [
       "<Figure size 640x480 with 1 Axes>"
      ]
     },
     "metadata": {},
     "output_type": "display_data"
    }
   ],
   "source": [
    "from VAT_library.iVAT import iVAT\n",
    "from scipy.spatial.distance import cdist\n",
    "\n",
    "pairwise_dist = cdist(tsne_embeddings, tsne_embeddings)\n",
    "\n",
    "RiV, RV, reordering_mat = iVAT(pairwise_dist)\n",
    "\n",
    "plt.imshow(RiV, cmap='gray')\n",
    "plt.savefig('saved_models/forest_cov_type/embed_2D.png')"
   ]
  },
  {
   "cell_type": "code",
   "execution_count": 18,
   "metadata": {},
   "outputs": [
    {
     "name": "stderr",
     "output_type": "stream",
     "text": [
      "VAT Processing: 100%|██████████| 6997/6997 [05:58<00:00, 19.51it/s] \n",
      "Final loop: 100%|██████████| 7000/7000 [00:00<00:00, 6712420.67it/s]\n",
      "iVAT Processing: 100%|██████████| 6999/6999 [00:00<00:00, 17210.69it/s]\n"
     ]
    },
    {
     "data": {
      "image/png": "[encoded data removed]",
      "text/plain": [
       "<Figure size 640x480 with 1 Axes>"
      ]
     },
     "metadata": {},
     "output_type": "display_data"
    }
   ],
   "source": [
    "pairwise_dist = cdist(embedded_X_train_balanced, embedded_X_train_balanced)\n",
    "\n",
    "RiV, RV, reordering_mat = iVAT(pairwise_dist)\n",
    "\n",
    "plt.imshow(RiV, cmap='gray')\n",
    "plt.savefig('saved_models/forest_cov_type/raw_embed_2D.png')"
   ]
  },
  {
   "cell_type": "code",
   "execution_count": 19,
   "metadata": {
    "scrolled": true
   },
   "outputs": [],
   "source": [
    "unsupervised_explain_matrix, unsupervised_masks = unsupervised_model.explain(X_valid)"
   ]
  },
  {
   "cell_type": "code",
   "execution_count": 20,
   "metadata": {},
   "outputs": [
    {
     "data": {
      "image/png": "[encoded data removed]",
      "text/plain": [
       "<Figure size 2000x2000 with 3 Axes>"
      ]
     },
     "metadata": {},
     "output_type": "display_data"
    }
   ],
   "source": [
    "fig, axs = plt.subplots(1, 3, figsize=(20,20))\n",
    "\n",
    "for i in range(3):\n",
    "    axs[i].imshow(unsupervised_masks[i][:50])\n",
    "    axs[i].set_title(f\"mask {i}\")\n"
   ]
  },
  {
   "cell_type": "code",
   "execution_count": 21,
   "metadata": {},
   "outputs": [
    {
     "name": "stdout",
     "output_type": "stream",
     "text": [
      "Successfully saved model at saved_models/forest_cov_type/forest_cov_type_1000_epochs.zip\n"
     ]
    },
    {
     "name": "stderr",
     "output_type": "stream",
     "text": [
      "/home/paritosh/workspace/tabnet/pytorch_tabnet/abstract_model.py:82: UserWarning: Device used : cuda\n",
      "  warnings.warn(f\"Device used : {self.device}\")\n"
     ]
    }
   ],
   "source": [
    "unsupervised_model.save_model('saved_models/forest_cov_type/forest_cov_type_1000_epochs')\n",
    "loaded_pretrain = TabNetPretrainer()\n",
    "loaded_pretrain.load_model('saved_models/forest_cov_type/forest_cov_type_1000_epochs.zip')"
   ]
  }
 ],
 "metadata": {
  "kernelspec": {
   "display_name": "Python 3",
   "language": "python",
   "name": "python3"
  },
  "language_info": {
   "codemirror_mode": {
    "name": "ipython",
    "version": 3
   },
   "file_extension": ".py",
   "mimetype": "text/x-python",
   "name": "python",
   "nbconvert_exporter": "python",
   "pygments_lexer": "ipython3",
   "version": "3.11.5"
  },
  "toc": {
   "base_numbering": 1,
   "nav_menu": {},
   "number_sections": true,
   "sideBar": true,
   "skip_h1_title": false,
   "title_cell": "Table of Contents",
   "title_sidebar": "Contents",
   "toc_cell": false,
   "toc_position": {},
   "toc_section_display": true,
   "toc_window_display": false
  }
 },
 "nbformat": 4,
 "nbformat_minor": 2
}
