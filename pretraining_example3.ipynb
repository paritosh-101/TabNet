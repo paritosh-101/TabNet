{
 "cells": [
  {
   "cell_type": "code",
   "execution_count": 1,
   "metadata": {},
   "outputs": [],
   "source": [
    "%load_ext autoreload\n",
    "%autoreload 2"
   ]
  },
  {
   "cell_type": "code",
   "execution_count": 2,
   "metadata": {},
   "outputs": [],
   "source": [
    "from pytorch_tabnet.tab_model import TabNetClassifier\n",
    "\n",
    "import torch\n",
    "from sklearn.preprocessing import LabelEncoder\n",
    "from sklearn.metrics import roc_auc_score\n",
    "from sklearn.model_selection import train_test_split\n",
    "\n",
    "import pandas as pd\n",
    "import numpy as np\n",
    "np.random.seed(0)\n",
    "\n",
    "import os\n",
    "import wget\n",
    "from pathlib import Path\n",
    "\n",
    "from matplotlib import pyplot as plt\n",
    "%matplotlib inline"
   ]
  },
  {
   "cell_type": "code",
   "execution_count": 3,
   "metadata": {},
   "outputs": [
    {
     "name": "stdout",
     "output_type": "stream",
     "text": [
      "device: cuda\n"
     ]
    }
   ],
   "source": [
    "# check if using cuda\n",
    "if torch.cuda.is_available():\n",
    "    device = 'cuda'\n",
    "else:\n",
    "    device = 'cpu'\n",
    "print(f'device: {device}')"
   ]
  },
  {
   "cell_type": "markdown",
   "metadata": {},
   "source": [
    "# Load data and split"
   ]
  },
  {
   "cell_type": "code",
   "execution_count": 4,
   "metadata": {},
   "outputs": [
    {
     "data": {
      "text/html": [
       "<div>\n",
       "<style scoped>\n",
       "    .dataframe tbody tr th:only-of-type {\n",
       "        vertical-align: middle;\n",
       "    }\n",
       "\n",
       "    .dataframe tbody tr th {\n",
       "        vertical-align: top;\n",
       "    }\n",
       "\n",
       "    .dataframe thead th {\n",
       "        text-align: right;\n",
       "    }\n",
       "</style>\n",
       "<table border=\"1\" class=\"dataframe\">\n",
       "  <thead>\n",
       "    <tr style=\"text-align: right;\">\n",
       "      <th></th>\n",
       "      <th>0</th>\n",
       "      <th>1</th>\n",
       "      <th>2</th>\n",
       "      <th>3</th>\n",
       "      <th>4</th>\n",
       "      <th>5</th>\n",
       "      <th>6</th>\n",
       "      <th>7</th>\n",
       "      <th>8</th>\n",
       "      <th>9</th>\n",
       "      <th>...</th>\n",
       "      <th>11</th>\n",
       "      <th>12</th>\n",
       "      <th>13</th>\n",
       "      <th>14</th>\n",
       "      <th>15</th>\n",
       "      <th>16</th>\n",
       "      <th>17</th>\n",
       "      <th>18</th>\n",
       "      <th>19</th>\n",
       "      <th>label</th>\n",
       "    </tr>\n",
       "  </thead>\n",
       "  <tbody>\n",
       "    <tr>\n",
       "      <th>0</th>\n",
       "      <td>0.973706</td>\n",
       "      <td>0.591017</td>\n",
       "      <td>-0.887140</td>\n",
       "      <td>0.552096</td>\n",
       "      <td>3.103821</td>\n",
       "      <td>-5.822749</td>\n",
       "      <td>-1.938932</td>\n",
       "      <td>-5.079163</td>\n",
       "      <td>-6.566237</td>\n",
       "      <td>-5.193113</td>\n",
       "      <td>...</td>\n",
       "      <td>0.186506</td>\n",
       "      <td>-9.879429</td>\n",
       "      <td>1.679830</td>\n",
       "      <td>-2.214815</td>\n",
       "      <td>-3.270652</td>\n",
       "      <td>0.717800</td>\n",
       "      <td>0.068727</td>\n",
       "      <td>0.332499</td>\n",
       "      <td>-0.148393</td>\n",
       "      <td>6</td>\n",
       "    </tr>\n",
       "    <tr>\n",
       "      <th>1</th>\n",
       "      <td>1.209087</td>\n",
       "      <td>-5.441295</td>\n",
       "      <td>0.046807</td>\n",
       "      <td>-4.386733</td>\n",
       "      <td>0.490128</td>\n",
       "      <td>-4.133692</td>\n",
       "      <td>1.190214</td>\n",
       "      <td>1.722776</td>\n",
       "      <td>4.675978</td>\n",
       "      <td>0.385009</td>\n",
       "      <td>...</td>\n",
       "      <td>2.492854</td>\n",
       "      <td>-1.998104</td>\n",
       "      <td>-4.377664</td>\n",
       "      <td>2.151754</td>\n",
       "      <td>-0.908908</td>\n",
       "      <td>2.991357</td>\n",
       "      <td>-2.749351</td>\n",
       "      <td>2.976213</td>\n",
       "      <td>0.801153</td>\n",
       "      <td>0</td>\n",
       "    </tr>\n",
       "    <tr>\n",
       "      <th>2</th>\n",
       "      <td>-1.622663</td>\n",
       "      <td>2.016029</td>\n",
       "      <td>-5.193168</td>\n",
       "      <td>1.580911</td>\n",
       "      <td>-0.103829</td>\n",
       "      <td>-0.790599</td>\n",
       "      <td>-1.001975</td>\n",
       "      <td>3.297580</td>\n",
       "      <td>4.390037</td>\n",
       "      <td>-2.093390</td>\n",
       "      <td>...</td>\n",
       "      <td>-3.119970</td>\n",
       "      <td>-2.681015</td>\n",
       "      <td>-0.483290</td>\n",
       "      <td>-2.242841</td>\n",
       "      <td>2.811529</td>\n",
       "      <td>0.341900</td>\n",
       "      <td>0.321642</td>\n",
       "      <td>0.216880</td>\n",
       "      <td>-4.771464</td>\n",
       "      <td>4</td>\n",
       "    </tr>\n",
       "    <tr>\n",
       "      <th>3</th>\n",
       "      <td>2.052733</td>\n",
       "      <td>-0.375089</td>\n",
       "      <td>-5.088232</td>\n",
       "      <td>0.015460</td>\n",
       "      <td>-0.550259</td>\n",
       "      <td>0.969496</td>\n",
       "      <td>-1.691907</td>\n",
       "      <td>-3.792203</td>\n",
       "      <td>4.471553</td>\n",
       "      <td>-1.371959</td>\n",
       "      <td>...</td>\n",
       "      <td>-3.158038</td>\n",
       "      <td>-0.394306</td>\n",
       "      <td>-1.332065</td>\n",
       "      <td>2.333670</td>\n",
       "      <td>-3.221730</td>\n",
       "      <td>1.559721</td>\n",
       "      <td>-4.240319</td>\n",
       "      <td>-5.451512</td>\n",
       "      <td>-0.065914</td>\n",
       "      <td>2</td>\n",
       "    </tr>\n",
       "    <tr>\n",
       "      <th>4</th>\n",
       "      <td>-3.874123</td>\n",
       "      <td>-1.965041</td>\n",
       "      <td>-3.159481</td>\n",
       "      <td>-1.940691</td>\n",
       "      <td>2.606082</td>\n",
       "      <td>-2.064653</td>\n",
       "      <td>5.284332</td>\n",
       "      <td>0.985224</td>\n",
       "      <td>-4.921945</td>\n",
       "      <td>3.098472</td>\n",
       "      <td>...</td>\n",
       "      <td>-0.982193</td>\n",
       "      <td>-1.457416</td>\n",
       "      <td>2.545934</td>\n",
       "      <td>-3.355315</td>\n",
       "      <td>-0.484493</td>\n",
       "      <td>7.047262</td>\n",
       "      <td>-2.169905</td>\n",
       "      <td>-3.017720</td>\n",
       "      <td>-4.351726</td>\n",
       "      <td>0</td>\n",
       "    </tr>\n",
       "  </tbody>\n",
       "</table>\n",
       "<p>5 rows × 21 columns</p>\n",
       "</div>"
      ],
      "text/plain": [
       "          0         1         2         3         4         5         6  \\\n",
       "0  0.973706  0.591017 -0.887140  0.552096  3.103821 -5.822749 -1.938932   \n",
       "1  1.209087 -5.441295  0.046807 -4.386733  0.490128 -4.133692  1.190214   \n",
       "2 -1.622663  2.016029 -5.193168  1.580911 -0.103829 -0.790599 -1.001975   \n",
       "3  2.052733 -0.375089 -5.088232  0.015460 -0.550259  0.969496 -1.691907   \n",
       "4 -3.874123 -1.965041 -3.159481 -1.940691  2.606082 -2.064653  5.284332   \n",
       "\n",
       "          7         8         9  ...        11        12        13        14  \\\n",
       "0 -5.079163 -6.566237 -5.193113  ...  0.186506 -9.879429  1.679830 -2.214815   \n",
       "1  1.722776  4.675978  0.385009  ...  2.492854 -1.998104 -4.377664  2.151754   \n",
       "2  3.297580  4.390037 -2.093390  ... -3.119970 -2.681015 -0.483290 -2.242841   \n",
       "3 -3.792203  4.471553 -1.371959  ... -3.158038 -0.394306 -1.332065  2.333670   \n",
       "4  0.985224 -4.921945  3.098472  ... -0.982193 -1.457416  2.545934 -3.355315   \n",
       "\n",
       "         15        16        17        18        19  label  \n",
       "0 -3.270652  0.717800  0.068727  0.332499 -0.148393      6  \n",
       "1 -0.908908  2.991357 -2.749351  2.976213  0.801153      0  \n",
       "2  2.811529  0.341900  0.321642  0.216880 -4.771464      4  \n",
       "3 -3.221730  1.559721 -4.240319 -5.451512 -0.065914      2  \n",
       "4 -0.484493  7.047262 -2.169905 -3.017720 -4.351726      0  \n",
       "\n",
       "[5 rows x 21 columns]"
      ]
     },
     "execution_count": 4,
     "metadata": {},
     "output_type": "execute_result"
    }
   ],
   "source": [
    "train = pd.read_csv('data/synthetic_hard_data.csv')\n",
    "train.head()"
   ]
  },
  {
   "cell_type": "code",
   "execution_count": 5,
   "metadata": {},
   "outputs": [
    {
     "name": "stdout",
     "output_type": "stream",
     "text": [
      "[[ 0.97370599  0.5910166  -0.88713963  0.5520964   3.10382119 -5.82274854\n",
      "  -1.93893231 -5.0791626  -6.56623656 -5.19311322  2.39226093  0.18650591\n",
      "  -9.87942875  1.67982985 -2.21481486 -3.27065244  0.71780008  0.06872682\n",
      "   0.33249882 -0.14839287]\n",
      " [ 1.20908708 -5.44129474  0.04680729 -4.38673261  0.49012827 -4.13369166\n",
      "   1.19021443  1.72277556  4.67597804  0.38500943  1.03203238  2.49285446\n",
      "  -1.99810383 -4.37766388  2.15175388 -0.90890838  2.99135671 -2.74935115\n",
      "   2.9762132   0.80115271]\n",
      " [-1.62266306  2.01602865 -5.19316835  1.58091118 -0.10382857 -0.79059941\n",
      "  -1.00197483  3.29757972  4.39003718 -2.09339018  1.46277516 -3.11997046\n",
      "  -2.6810146  -0.48329016 -2.24284106  2.81152886  0.34189994  0.32164166\n",
      "   0.21687951 -4.77146431]\n",
      " [ 2.05273314 -0.37508866 -5.08823218  0.01545971 -0.55025924  0.96949583\n",
      "  -1.69190695 -3.79220305  4.47155317 -1.37195901  1.32145025 -3.15803798\n",
      "  -0.3943064  -1.33206489  2.3336698  -3.22172995  1.55972145 -4.24031947\n",
      "  -5.45151237 -0.06591402]\n",
      " [-3.87412326 -1.96504101 -3.15948082 -1.94069102  2.60608208 -2.06465256\n",
      "   5.28433183  0.98522369 -4.92194511  3.09847244 -3.26063879 -0.98219277\n",
      "  -1.45741558  2.54593434 -3.35531537 -0.48449278  7.04726198 -2.16990518\n",
      "  -3.01771975 -4.35172633]] [6 0 4 2 0]\n"
     ]
    }
   ],
   "source": [
    "# get X and y\n",
    "X = train.iloc[:, :-1].values\n",
    "y = train.iloc[:, -1].values\n",
    "\n",
    "print(X[:5], y[:5])"
   ]
  },
  {
   "cell_type": "code",
   "execution_count": 6,
   "metadata": {},
   "outputs": [
    {
     "name": "stdout",
     "output_type": "stream",
     "text": [
      "X_train.shape: (89600, 20), y_train.shape: (89600,)\n",
      "X_valid.shape: (22400, 20), y_valid.shape: (22400,)\n",
      "X_test.shape: (28000, 20), y_test.shape: (28000,)\n"
     ]
    }
   ],
   "source": [
    "\n",
    "# Assuming X and y are your synthetic dataset features and target\n",
    "X_train, X_test, y_train, y_test = train_test_split(X, y, test_size=0.2, random_state=42)\n",
    "X_train, X_valid, y_train, y_valid = train_test_split(X_train, y_train, test_size=0.2, random_state=42)\n",
    "\n",
    "if os.getenv(\"CI\", False):\n",
    "    # Take only a subsample to run CI\n",
    "    X_train = X_train[:1000, :]\n",
    "    y_train = y_train[:1000]\n",
    "\n",
    "print(f\"X_train.shape: {X_train.shape}, y_train.shape: {y_train.shape}\")\n",
    "print(f\"X_valid.shape: {X_valid.shape}, y_valid.shape: {y_valid.shape}\")\n",
    "print(f\"X_test.shape: {X_test.shape}, y_test.shape: {y_test.shape}\")"
   ]
  },
  {
   "cell_type": "markdown",
   "metadata": {},
   "source": [
    "# Network parameters"
   ]
  },
  {
   "cell_type": "code",
   "execution_count": 7,
   "metadata": {},
   "outputs": [],
   "source": [
    "from pytorch_tabnet.pretraining import TabNetPretrainer"
   ]
  },
  {
   "cell_type": "code",
   "execution_count": 8,
   "metadata": {},
   "outputs": [],
   "source": [
    "cat_idxs = []\n",
    "cat_dims = []"
   ]
  },
  {
   "cell_type": "code",
   "execution_count": 9,
   "metadata": {},
   "outputs": [
    {
     "name": "stderr",
     "output_type": "stream",
     "text": [
      "d:\\_workspace\\tabnet\\pytorch_tabnet\\abstract_model.py:82: UserWarning: Device used : cuda\n",
      "  warnings.warn(f\"Device used : {self.device}\")\n"
     ]
    }
   ],
   "source": [
    "# TabNetPretrainer\n",
    "unsupervised_model = TabNetPretrainer(\n",
    "    # cat_idxs=cat_idxs,\n",
    "    # cat_dims=cat_dims,\n",
    "    # cat_emb_dim=3,\n",
    "    optimizer_fn=torch.optim.Adam,\n",
    "    optimizer_params=dict(lr=2e-2),\n",
    "    mask_type='entmax', # \"sparsemax\",\n",
    "    n_shared_decoder=1, # nb shared glu for decoding\n",
    "    n_indep_decoder=1, # nb independent glu for decoding\n",
    "#     grouped_features=[[0, 1]], # you can group features together here\n",
    "    verbose=5,\n",
    ")"
   ]
  },
  {
   "cell_type": "markdown",
   "metadata": {},
   "source": [
    "# Self Supervised Training"
   ]
  },
  {
   "cell_type": "code",
   "execution_count": 10,
   "metadata": {},
   "outputs": [],
   "source": [
    "max_epochs = 150 if not os.getenv(\"CI\", False) else 2 # 1000\n",
    "# max_epochs = 10 if not os.getenv(\"CI\", False) else 2"
   ]
  },
  {
   "cell_type": "code",
   "execution_count": 11,
   "metadata": {
    "scrolled": false
   },
   "outputs": [
    {
     "name": "stderr",
     "output_type": "stream",
     "text": [
      "d:\\_workspace\\tabnet\\pytorch_tabnet\\abstract_model.py:687: UserWarning: No early stopping will be performed, last training weights will be used.\n",
      "  warnings.warn(wrn_msg)\n"
     ]
    },
    {
     "name": "stdout",
     "output_type": "stream",
     "text": [
      "epoch 0  | loss: 1.08331 | val_0_unsup_loss_numpy: 1.006909966468811|  0:00:03s\n",
      "epoch 5  | loss: 0.90855 | val_0_unsup_loss_numpy: 0.7545400261878967|  0:00:20s\n",
      "epoch 10 | loss: 0.87105 | val_0_unsup_loss_numpy: 0.6799100041389465|  0:01:05s\n",
      "epoch 15 | loss: 0.85718 | val_0_unsup_loss_numpy: 0.671750009059906|  0:03:18s\n",
      "epoch 20 | loss: 0.85237 | val_0_unsup_loss_numpy: 0.6731899976730347|  0:05:31s\n",
      "epoch 25 | loss: 0.84664 | val_0_unsup_loss_numpy: 0.6752300262451172|  0:07:45s\n",
      "epoch 30 | loss: 0.8438  | val_0_unsup_loss_numpy: 0.6747400164604187|  0:09:58s\n",
      "epoch 35 | loss: 0.83854 | val_0_unsup_loss_numpy: 0.6733599901199341|  0:10:44s\n",
      "epoch 40 | loss: 0.83435 | val_0_unsup_loss_numpy: 0.6779699921607971|  0:11:58s\n",
      "epoch 45 | loss: 0.83135 | val_0_unsup_loss_numpy: 0.6870099902153015|  0:13:37s\n",
      "epoch 50 | loss: 0.82969 | val_0_unsup_loss_numpy: 0.67985999584198|  0:15:16s\n",
      "epoch 55 | loss: 0.82938 | val_0_unsup_loss_numpy: 0.6812000274658203|  0:16:57s\n",
      "epoch 60 | loss: 0.82791 | val_0_unsup_loss_numpy: 0.6814799904823303|  0:17:19s\n",
      "epoch 65 | loss: 0.82765 | val_0_unsup_loss_numpy: 0.6890299916267395|  0:18:59s\n",
      "epoch 70 | loss: 0.8254  | val_0_unsup_loss_numpy: 0.6824300289154053|  0:20:33s\n",
      "epoch 75 | loss: 0.82359 | val_0_unsup_loss_numpy: 0.6863999962806702|  0:21:07s\n",
      "epoch 80 | loss: 0.82352 | val_0_unsup_loss_numpy: 0.6916999816894531|  0:22:48s\n",
      "epoch 85 | loss: 0.81979 | val_0_unsup_loss_numpy: 0.6863899827003479|  0:24:07s\n",
      "epoch 90 | loss: 0.82221 | val_0_unsup_loss_numpy: 0.6911600232124329|  0:25:25s\n",
      "epoch 95 | loss: 0.8189  | val_0_unsup_loss_numpy: 0.688539981842041|  0:25:47s\n",
      "epoch 100| loss: 0.81818 | val_0_unsup_loss_numpy: 0.6867799758911133|  0:26:03s\n",
      "epoch 105| loss: 0.81948 | val_0_unsup_loss_numpy: 0.6899999976158142|  0:26:36s\n",
      "epoch 110| loss: 0.81762 | val_0_unsup_loss_numpy: 0.6911200284957886|  0:27:23s\n",
      "epoch 115| loss: 0.81809 | val_0_unsup_loss_numpy: 0.6905099749565125|  0:28:12s\n",
      "epoch 120| loss: 0.81652 | val_0_unsup_loss_numpy: 0.702019989490509|  0:29:00s\n",
      "epoch 125| loss: 0.81653 | val_0_unsup_loss_numpy: 0.6880900263786316|  0:29:49s\n",
      "epoch 130| loss: 0.81695 | val_0_unsup_loss_numpy: 0.6906499862670898|  0:30:14s\n",
      "epoch 135| loss: 0.81612 | val_0_unsup_loss_numpy: 0.6907299757003784|  0:30:32s\n",
      "epoch 140| loss: 0.81583 | val_0_unsup_loss_numpy: 0.6978399753570557|  0:31:07s\n",
      "epoch 145| loss: 0.81509 | val_0_unsup_loss_numpy: 0.6889200210571289|  0:31:57s\n"
     ]
    }
   ],
   "source": [
    "# unsupervised_model.fit(\n",
    "#     X_train=X_train,\n",
    "#     eval_set=[X_valid],\n",
    "#     max_epochs=max_epochs , patience=5,\n",
    "#     batch_size=2048, virtual_batch_size=128,\n",
    "#     num_workers=0,\n",
    "#     drop_last=False,\n",
    "#     pretraining_ratio=0.5,\n",
    "# ) \n",
    "\n",
    "unsupervised_model.fit(\n",
    "    X_train=X_train,\n",
    "    eval_set=[X_valid],\n",
    "    max_epochs=max_epochs , patience=0,\n",
    "    batch_size=2048, virtual_batch_size=128,\n",
    "    num_workers=0,\n",
    "    drop_last=False,\n",
    "    pretraining_ratio=0.5,\n",
    ") "
   ]
  },
  {
   "cell_type": "code",
   "execution_count": 12,
   "metadata": {},
   "outputs": [],
   "source": [
    "# Make reconstruction from a dataset\n",
    "reconstructed_X, embedded_X = unsupervised_model.predict(X_valid)\n",
    "assert(reconstructed_X.shape==embedded_X.shape)"
   ]
  },
  {
   "cell_type": "code",
   "execution_count": 13,
   "metadata": {},
   "outputs": [
    {
     "name": "stdout",
     "output_type": "stream",
     "text": [
      "y_train_unique: [0 1 2 3 4 5 6]\n"
     ]
    }
   ],
   "source": [
    "# y_train unique values\n",
    "y_train_unique = np.unique(y_train)\n",
    "print(f\"y_train_unique: {y_train_unique}\")"
   ]
  },
  {
   "cell_type": "code",
   "execution_count": 14,
   "metadata": {},
   "outputs": [
    {
     "name": "stdout",
     "output_type": "stream",
     "text": [
      "Embeddings shape: (3500, 20)\n",
      "Number of samples: 3500\n"
     ]
    }
   ],
   "source": [
    "from sklearn.utils import resample\n",
    "\n",
    "# Obtain class-balanced samples from the training data\n",
    "X_train_balanced, y_train_balanced = resample(\n",
    "    X_train, y_train, replace=True, n_samples=3500, random_state=42, stratify=y_train\n",
    ")\n",
    "\n",
    "# Extract embeddings using the pretrained model\n",
    "_, embedded_X_train_balanced = unsupervised_model.predict(X_train_balanced)\n",
    "\n",
    "# Verify the shape of the extracted embeddings\n",
    "print(\"Embeddings shape:\", embedded_X_train_balanced.shape)\n",
    "print(\"Number of samples:\", len(y_train_balanced))"
   ]
  },
  {
   "cell_type": "code",
   "execution_count": 15,
   "metadata": {},
   "outputs": [
    {
     "name": "stdout",
     "output_type": "stream",
     "text": [
      "[t-SNE] Computing 91 nearest neighbors...\n",
      "[t-SNE] Indexed 3500 samples in 0.000s...\n",
      "[t-SNE] Computed neighbors for 3500 samples in 0.243s...\n",
      "[t-SNE] Computed conditional probabilities for sample 1000 / 3500\n",
      "[t-SNE] Computed conditional probabilities for sample 2000 / 3500\n",
      "[t-SNE] Computed conditional probabilities for sample 3000 / 3500\n",
      "[t-SNE] Computed conditional probabilities for sample 3500 / 3500\n",
      "[t-SNE] Mean sigma: 4.106035\n",
      "[t-SNE] KL divergence after 250 iterations with early exaggeration: 82.486099\n",
      "[t-SNE] KL divergence after 1000 iterations: 1.952294\n"
     ]
    }
   ],
   "source": [
    "from sklearn.manifold import TSNE\n",
    "tsne = TSNE(n_components=2, verbose=1)\n",
    "tsne_embeddings = tsne.fit_transform(embedded_X_train_balanced)"
   ]
  },
  {
   "cell_type": "code",
   "execution_count": 16,
   "metadata": {},
   "outputs": [
    {
     "name": "stderr",
     "output_type": "stream",
     "text": [
      "VAT Processing: 100%|██████████| 3497/3497 [05:15<00:00, 11.09it/s]\n",
      "Final loop: 100%|██████████| 3500/3500 [00:00<00:00, 1009285.94it/s]\n",
      "iVAT Processing: 100%|██████████| 3499/3499 [00:00<00:00, 9592.35it/s] \n"
     ]
    },
    {
     "data": {
      "image/png": "[encoded data removed]",
      "text/plain": [
       "<Figure size 640x480 with 1 Axes>"
      ]
     },
     "metadata": {},
     "output_type": "display_data"
    }
   ],
   "source": [
    "from VAT_library.iVAT import iVAT\n",
    "from scipy.spatial.distance import cdist\n",
    "\n",
    "pairwise_dist = cdist(tsne_embeddings, tsne_embeddings)\n",
    "\n",
    "RiV, RV, reordering_mat = iVAT(pairwise_dist)\n",
    "\n",
    "plt.imshow(RiV, cmap='gray')\n",
    "plt.savefig('tabnet_test_synth_hard.png')"
   ]
  },
  {
   "cell_type": "code",
   "execution_count": 17,
   "metadata": {},
   "outputs": [
    {
     "name": "stderr",
     "output_type": "stream",
     "text": [
      "VAT Processing: 100%|██████████| 3497/3497 [04:04<00:00, 14.29it/s]\n",
      "Final loop: 100%|██████████| 3500/3500 [00:00<?, ?it/s]\n",
      "iVAT Processing: 100%|██████████| 3499/3499 [00:00<00:00, 4293.88it/s]\n"
     ]
    },
    {
     "data": {
      "image/png": "[encoded data removed]",
      "text/plain": [
       "<Figure size 640x480 with 1 Axes>"
      ]
     },
     "metadata": {},
     "output_type": "display_data"
    }
   ],
   "source": [
    "pairwise_dist = cdist(embedded_X_train_balanced, embedded_X_train_balanced)\n",
    "\n",
    "RiV, RV, reordering_mat = iVAT(pairwise_dist)\n",
    "\n",
    "plt.imshow(RiV, cmap='gray')\n",
    "plt.savefig('tabnet_test_synth_hard_raw_embeddings.png')"
   ]
  },
  {
   "cell_type": "code",
   "execution_count": 18,
   "metadata": {
    "scrolled": true
   },
   "outputs": [],
   "source": [
    "unsupervised_explain_matrix, unsupervised_masks = unsupervised_model.explain(X_valid)"
   ]
  },
  {
   "cell_type": "code",
   "execution_count": 19,
   "metadata": {},
   "outputs": [
    {
     "data": {
      "image/png": "[encoded data removed]",
      "text/plain": [
       "<Figure size 2000x2000 with 3 Axes>"
      ]
     },
     "metadata": {},
     "output_type": "display_data"
    }
   ],
   "source": [
    "fig, axs = plt.subplots(1, 3, figsize=(20,20))\n",
    "\n",
    "for i in range(3):\n",
    "    axs[i].imshow(unsupervised_masks[i][:50])\n",
    "    axs[i].set_title(f\"mask {i}\")\n"
   ]
  },
  {
   "cell_type": "markdown",
   "metadata": {},
   "source": [
    "## Save and load the same way as other TabNet models"
   ]
  },
  {
   "cell_type": "code",
   "execution_count": 20,
   "metadata": {},
   "outputs": [
    {
     "name": "stdout",
     "output_type": "stream",
     "text": [
      "Successfully saved model at ./test_pretrain_synth_hard.zip\n"
     ]
    },
    {
     "name": "stderr",
     "output_type": "stream",
     "text": [
      "d:\\_workspace\\tabnet\\pytorch_tabnet\\abstract_model.py:82: UserWarning: Device used : cuda\n",
      "  warnings.warn(f\"Device used : {self.device}\")\n"
     ]
    }
   ],
   "source": [
    "unsupervised_model.save_model('./test_pretrain_synth_hard')\n",
    "loaded_pretrain = TabNetPretrainer()\n",
    "loaded_pretrain.load_model('./test_pretrain_synth_hard.zip')"
   ]
  },
  {
   "cell_type": "markdown",
   "metadata": {},
   "source": [
    "# Training"
   ]
  },
  {
   "cell_type": "code",
   "execution_count": null,
   "metadata": {},
   "outputs": [],
   "source": [
    "clf = TabNetClassifier(optimizer_fn=torch.optim.Adam,\n",
    "                       optimizer_params=dict(lr=2e-3),\n",
    "                       scheduler_params={\"step_size\":10, # how to use learning rate scheduler\n",
    "                                         \"gamma\":0.9},\n",
    "                       scheduler_fn=torch.optim.lr_scheduler.StepLR,\n",
    "                       mask_type='sparsemax', # This will be overwritten if using pretrain model\n",
    "                       verbose=5,\n",
    "                      )"
   ]
  },
  {
   "cell_type": "code",
   "execution_count": null,
   "metadata": {
    "scrolled": false
   },
   "outputs": [],
   "source": [
    "clf.fit(\n",
    "    X_train=X_train, y_train=y_train,\n",
    "    eval_set=[(X_train, y_train), (X_valid, y_valid)],\n",
    "    eval_name=['train', 'valid'],\n",
    "    eval_metric=['auc'],\n",
    "    max_epochs=max_epochs , patience=20,\n",
    "    batch_size=1024, virtual_batch_size=128,\n",
    "    num_workers=0,\n",
    "    weights=1,\n",
    "    drop_last=False,\n",
    "    from_unsupervised=loaded_pretrain,\n",
    "    \n",
    ") "
   ]
  },
  {
   "cell_type": "code",
   "execution_count": null,
   "metadata": {},
   "outputs": [],
   "source": [
    "# plot losses\n",
    "plt.plot(clf.history['loss'])"
   ]
  },
  {
   "cell_type": "code",
   "execution_count": null,
   "metadata": {},
   "outputs": [],
   "source": [
    "# plot auc\n",
    "plt.plot(clf.history['train_auc'])\n",
    "plt.plot(clf.history['valid_auc'])"
   ]
  },
  {
   "cell_type": "code",
   "execution_count": null,
   "metadata": {},
   "outputs": [],
   "source": [
    "# plot learning rates\n",
    "plt.plot(clf.history['lr'])"
   ]
  },
  {
   "cell_type": "markdown",
   "metadata": {},
   "source": [
    "## Predictions"
   ]
  },
  {
   "cell_type": "code",
   "execution_count": null,
   "metadata": {},
   "outputs": [],
   "source": [
    "preds = clf.predict_proba(X_test)\n",
    "test_auc = roc_auc_score(y_score=preds[:,1], y_true=y_test)\n",
    "\n",
    "\n",
    "preds_valid = clf.predict_proba(X_valid)\n",
    "valid_auc = roc_auc_score(y_score=preds_valid[:,1], y_true=y_valid)\n",
    "\n",
    "print(f\"BEST VALID SCORE FOR {dataset_name} : {clf.best_cost}\")\n",
    "print(f\"FINAL TEST SCORE FOR {dataset_name} : {test_auc}\")"
   ]
  },
  {
   "cell_type": "code",
   "execution_count": null,
   "metadata": {},
   "outputs": [],
   "source": [
    "# check that best weights are used\n",
    "assert np.isclose(valid_auc, np.max(clf.history['valid_auc']), atol=1e-6)"
   ]
  },
  {
   "cell_type": "markdown",
   "metadata": {},
   "source": [
    "# Save and load Model"
   ]
  },
  {
   "cell_type": "code",
   "execution_count": null,
   "metadata": {},
   "outputs": [],
   "source": [
    "# save tabnet model\n",
    "saving_path_name = \"./tabnet_model_test_1\"\n",
    "saved_filepath = clf.save_model(saving_path_name)"
   ]
  },
  {
   "cell_type": "code",
   "execution_count": null,
   "metadata": {},
   "outputs": [],
   "source": [
    "# define new model with basic parameters and load state dict weights\n",
    "loaded_clf = TabNetClassifier()\n",
    "loaded_clf.load_model(saved_filepath)"
   ]
  },
  {
   "cell_type": "code",
   "execution_count": null,
   "metadata": {},
   "outputs": [],
   "source": [
    "loaded_preds = loaded_clf.predict_proba(X_test)\n",
    "loaded_test_auc = roc_auc_score(y_score=loaded_preds[:,1], y_true=y_test)\n",
    "\n",
    "print(f\"FINAL TEST SCORE FOR {dataset_name} : {loaded_test_auc}\")"
   ]
  },
  {
   "cell_type": "code",
   "execution_count": null,
   "metadata": {},
   "outputs": [],
   "source": [
    "assert(test_auc == loaded_test_auc)"
   ]
  },
  {
   "cell_type": "markdown",
   "metadata": {},
   "source": [
    "# Global explainability : feat importance summing to 1"
   ]
  },
  {
   "cell_type": "code",
   "execution_count": null,
   "metadata": {},
   "outputs": [],
   "source": [
    "clf.feature_importances_"
   ]
  },
  {
   "cell_type": "markdown",
   "metadata": {},
   "source": [
    "# Local explainability and masks"
   ]
  },
  {
   "cell_type": "code",
   "execution_count": null,
   "metadata": {},
   "outputs": [],
   "source": [
    "explain_matrix, masks = clf.explain(X_test)"
   ]
  },
  {
   "cell_type": "code",
   "execution_count": null,
   "metadata": {},
   "outputs": [],
   "source": [
    "fig, axs = plt.subplots(1, 3, figsize=(20,20))\n",
    "\n",
    "for i in range(3):\n",
    "    axs[i].imshow(masks[i][:50])\n",
    "    axs[i].set_title(f\"mask {i}\")\n"
   ]
  }
 ],
 "metadata": {
  "kernelspec": {
   "display_name": "Python 3",
   "language": "python",
   "name": "python3"
  },
  "language_info": {
   "codemirror_mode": {
    "name": "ipython",
    "version": 3
   },
   "file_extension": ".py",
   "mimetype": "text/x-python",
   "name": "python",
   "nbconvert_exporter": "python",
   "pygments_lexer": "ipython3",
   "version": "3.11.5"
  },
  "toc": {
   "base_numbering": 1,
   "nav_menu": {},
   "number_sections": true,
   "sideBar": true,
   "skip_h1_title": false,
   "title_cell": "Table of Contents",
   "title_sidebar": "Contents",
   "toc_cell": false,
   "toc_position": {},
   "toc_section_display": true,
   "toc_window_display": false
  }
 },
 "nbformat": 4,
 "nbformat_minor": 2
}
