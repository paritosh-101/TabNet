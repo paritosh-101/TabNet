{
 "cells": [
  {
   "cell_type": "code",
   "execution_count": 1,
   "metadata": {},
   "outputs": [],
   "source": [
    "%load_ext autoreload\n",
    "%autoreload 2"
   ]
  },
  {
   "cell_type": "code",
   "execution_count": 2,
   "metadata": {},
   "outputs": [],
   "source": [
    "from pytorch_tabnet.tab_model import TabNetClassifier\n",
    "\n",
    "import torch\n",
    "from sklearn.preprocessing import LabelEncoder\n",
    "from sklearn.metrics import roc_auc_score\n",
    "from sklearn.model_selection import train_test_split\n",
    "\n",
    "import pandas as pd\n",
    "import numpy as np\n",
    "np.random.seed(0)\n",
    "\n",
    "import os\n",
    "import wget\n",
    "from pathlib import Path\n",
    "\n",
    "from matplotlib import pyplot as plt\n",
    "%matplotlib inline"
   ]
  },
  {
   "cell_type": "code",
   "execution_count": 3,
   "metadata": {},
   "outputs": [
    {
     "name": "stdout",
     "output_type": "stream",
     "text": [
      "device: cuda\n"
     ]
    }
   ],
   "source": [
    "# check if using cuda\n",
    "if torch.cuda.is_available():\n",
    "    device = 'cuda'\n",
    "else:\n",
    "    device = 'cpu'\n",
    "print(f'device: {device}')"
   ]
  },
  {
   "cell_type": "markdown",
   "metadata": {},
   "source": [
    "# Load data and split"
   ]
  },
  {
   "cell_type": "code",
   "execution_count": 4,
   "metadata": {},
   "outputs": [
    {
     "data": {
      "text/html": [
       "<div>\n",
       "<style scoped>\n",
       "    .dataframe tbody tr th:only-of-type {\n",
       "        vertical-align: middle;\n",
       "    }\n",
       "\n",
       "    .dataframe tbody tr th {\n",
       "        vertical-align: top;\n",
       "    }\n",
       "\n",
       "    .dataframe thead th {\n",
       "        text-align: right;\n",
       "    }\n",
       "</style>\n",
       "<table border=\"1\" class=\"dataframe\">\n",
       "  <thead>\n",
       "    <tr style=\"text-align: right;\">\n",
       "      <th></th>\n",
       "      <th>0</th>\n",
       "      <th>1</th>\n",
       "      <th>2</th>\n",
       "      <th>3</th>\n",
       "      <th>4</th>\n",
       "      <th>5</th>\n",
       "      <th>6</th>\n",
       "      <th>7</th>\n",
       "      <th>8</th>\n",
       "      <th>9</th>\n",
       "      <th>...</th>\n",
       "      <th>11</th>\n",
       "      <th>12</th>\n",
       "      <th>13</th>\n",
       "      <th>14</th>\n",
       "      <th>15</th>\n",
       "      <th>16</th>\n",
       "      <th>17</th>\n",
       "      <th>18</th>\n",
       "      <th>19</th>\n",
       "      <th>label</th>\n",
       "    </tr>\n",
       "  </thead>\n",
       "  <tbody>\n",
       "    <tr>\n",
       "      <th>0</th>\n",
       "      <td>0.973706</td>\n",
       "      <td>0.591017</td>\n",
       "      <td>-0.887140</td>\n",
       "      <td>0.552096</td>\n",
       "      <td>3.103821</td>\n",
       "      <td>-5.822749</td>\n",
       "      <td>-1.938932</td>\n",
       "      <td>-5.079163</td>\n",
       "      <td>-6.566237</td>\n",
       "      <td>-5.193113</td>\n",
       "      <td>...</td>\n",
       "      <td>0.186506</td>\n",
       "      <td>-9.879429</td>\n",
       "      <td>1.679830</td>\n",
       "      <td>-2.214815</td>\n",
       "      <td>-3.270652</td>\n",
       "      <td>0.717800</td>\n",
       "      <td>0.068727</td>\n",
       "      <td>0.332499</td>\n",
       "      <td>-0.148393</td>\n",
       "      <td>6</td>\n",
       "    </tr>\n",
       "    <tr>\n",
       "      <th>1</th>\n",
       "      <td>1.209087</td>\n",
       "      <td>-5.441295</td>\n",
       "      <td>0.046807</td>\n",
       "      <td>-4.386733</td>\n",
       "      <td>0.490128</td>\n",
       "      <td>-4.133692</td>\n",
       "      <td>1.190214</td>\n",
       "      <td>1.722776</td>\n",
       "      <td>4.675978</td>\n",
       "      <td>0.385009</td>\n",
       "      <td>...</td>\n",
       "      <td>2.492854</td>\n",
       "      <td>-1.998104</td>\n",
       "      <td>-4.377664</td>\n",
       "      <td>2.151754</td>\n",
       "      <td>-0.908908</td>\n",
       "      <td>2.991357</td>\n",
       "      <td>-2.749351</td>\n",
       "      <td>2.976213</td>\n",
       "      <td>0.801153</td>\n",
       "      <td>0</td>\n",
       "    </tr>\n",
       "    <tr>\n",
       "      <th>2</th>\n",
       "      <td>-1.622663</td>\n",
       "      <td>2.016029</td>\n",
       "      <td>-5.193168</td>\n",
       "      <td>1.580911</td>\n",
       "      <td>-0.103829</td>\n",
       "      <td>-0.790599</td>\n",
       "      <td>-1.001975</td>\n",
       "      <td>3.297580</td>\n",
       "      <td>4.390037</td>\n",
       "      <td>-2.093390</td>\n",
       "      <td>...</td>\n",
       "      <td>-3.119970</td>\n",
       "      <td>-2.681015</td>\n",
       "      <td>-0.483290</td>\n",
       "      <td>-2.242841</td>\n",
       "      <td>2.811529</td>\n",
       "      <td>0.341900</td>\n",
       "      <td>0.321642</td>\n",
       "      <td>0.216880</td>\n",
       "      <td>-4.771464</td>\n",
       "      <td>4</td>\n",
       "    </tr>\n",
       "    <tr>\n",
       "      <th>3</th>\n",
       "      <td>2.052733</td>\n",
       "      <td>-0.375089</td>\n",
       "      <td>-5.088232</td>\n",
       "      <td>0.015460</td>\n",
       "      <td>-0.550259</td>\n",
       "      <td>0.969496</td>\n",
       "      <td>-1.691907</td>\n",
       "      <td>-3.792203</td>\n",
       "      <td>4.471553</td>\n",
       "      <td>-1.371959</td>\n",
       "      <td>...</td>\n",
       "      <td>-3.158038</td>\n",
       "      <td>-0.394306</td>\n",
       "      <td>-1.332065</td>\n",
       "      <td>2.333670</td>\n",
       "      <td>-3.221730</td>\n",
       "      <td>1.559721</td>\n",
       "      <td>-4.240319</td>\n",
       "      <td>-5.451512</td>\n",
       "      <td>-0.065914</td>\n",
       "      <td>2</td>\n",
       "    </tr>\n",
       "    <tr>\n",
       "      <th>4</th>\n",
       "      <td>-3.874123</td>\n",
       "      <td>-1.965041</td>\n",
       "      <td>-3.159481</td>\n",
       "      <td>-1.940691</td>\n",
       "      <td>2.606082</td>\n",
       "      <td>-2.064653</td>\n",
       "      <td>5.284332</td>\n",
       "      <td>0.985224</td>\n",
       "      <td>-4.921945</td>\n",
       "      <td>3.098472</td>\n",
       "      <td>...</td>\n",
       "      <td>-0.982193</td>\n",
       "      <td>-1.457416</td>\n",
       "      <td>2.545934</td>\n",
       "      <td>-3.355315</td>\n",
       "      <td>-0.484493</td>\n",
       "      <td>7.047262</td>\n",
       "      <td>-2.169905</td>\n",
       "      <td>-3.017720</td>\n",
       "      <td>-4.351726</td>\n",
       "      <td>0</td>\n",
       "    </tr>\n",
       "  </tbody>\n",
       "</table>\n",
       "<p>5 rows × 21 columns</p>\n",
       "</div>"
      ],
      "text/plain": [
       "          0         1         2         3         4         5         6  \\\n",
       "0  0.973706  0.591017 -0.887140  0.552096  3.103821 -5.822749 -1.938932   \n",
       "1  1.209087 -5.441295  0.046807 -4.386733  0.490128 -4.133692  1.190214   \n",
       "2 -1.622663  2.016029 -5.193168  1.580911 -0.103829 -0.790599 -1.001975   \n",
       "3  2.052733 -0.375089 -5.088232  0.015460 -0.550259  0.969496 -1.691907   \n",
       "4 -3.874123 -1.965041 -3.159481 -1.940691  2.606082 -2.064653  5.284332   \n",
       "\n",
       "          7         8         9  ...        11        12        13        14  \\\n",
       "0 -5.079163 -6.566237 -5.193113  ...  0.186506 -9.879429  1.679830 -2.214815   \n",
       "1  1.722776  4.675978  0.385009  ...  2.492854 -1.998104 -4.377664  2.151754   \n",
       "2  3.297580  4.390037 -2.093390  ... -3.119970 -2.681015 -0.483290 -2.242841   \n",
       "3 -3.792203  4.471553 -1.371959  ... -3.158038 -0.394306 -1.332065  2.333670   \n",
       "4  0.985224 -4.921945  3.098472  ... -0.982193 -1.457416  2.545934 -3.355315   \n",
       "\n",
       "         15        16        17        18        19  label  \n",
       "0 -3.270652  0.717800  0.068727  0.332499 -0.148393      6  \n",
       "1 -0.908908  2.991357 -2.749351  2.976213  0.801153      0  \n",
       "2  2.811529  0.341900  0.321642  0.216880 -4.771464      4  \n",
       "3 -3.221730  1.559721 -4.240319 -5.451512 -0.065914      2  \n",
       "4 -0.484493  7.047262 -2.169905 -3.017720 -4.351726      0  \n",
       "\n",
       "[5 rows x 21 columns]"
      ]
     },
     "execution_count": 4,
     "metadata": {},
     "output_type": "execute_result"
    }
   ],
   "source": [
    "train = pd.read_csv('/home/paritosh/workspace/IK_contrastive_dataset/synthetic_hard_data.csv')\n",
    "train.head()"
   ]
  },
  {
   "cell_type": "code",
   "execution_count": 5,
   "metadata": {},
   "outputs": [
    {
     "name": "stdout",
     "output_type": "stream",
     "text": [
      "[[ 0.97370599  0.5910166  -0.88713963  0.5520964   3.10382119 -5.82274854\n",
      "  -1.93893231 -5.0791626  -6.56623656 -5.19311322  2.39226093  0.18650591\n",
      "  -9.87942875  1.67982985 -2.21481486 -3.27065244  0.71780008  0.06872682\n",
      "   0.33249882 -0.14839287]\n",
      " [ 1.20908708 -5.44129474  0.04680729 -4.38673261  0.49012827 -4.13369166\n",
      "   1.19021443  1.72277556  4.67597804  0.38500943  1.03203238  2.49285446\n",
      "  -1.99810383 -4.37766388  2.15175388 -0.90890838  2.99135671 -2.74935115\n",
      "   2.9762132   0.80115271]\n",
      " [-1.62266306  2.01602865 -5.19316835  1.58091118 -0.10382857 -0.79059941\n",
      "  -1.00197483  3.29757972  4.39003718 -2.09339018  1.46277516 -3.11997046\n",
      "  -2.6810146  -0.48329016 -2.24284106  2.81152886  0.34189994  0.32164166\n",
      "   0.21687951 -4.77146431]\n",
      " [ 2.05273314 -0.37508866 -5.08823218  0.01545971 -0.55025924  0.96949583\n",
      "  -1.69190695 -3.79220305  4.47155317 -1.37195901  1.32145025 -3.15803798\n",
      "  -0.3943064  -1.33206489  2.3336698  -3.22172995  1.55972145 -4.24031947\n",
      "  -5.45151237 -0.06591402]\n",
      " [-3.87412326 -1.96504101 -3.15948082 -1.94069102  2.60608208 -2.06465256\n",
      "   5.28433183  0.98522369 -4.92194511  3.09847244 -3.26063879 -0.98219277\n",
      "  -1.45741558  2.54593434 -3.35531537 -0.48449278  7.04726198 -2.16990518\n",
      "  -3.01771975 -4.35172633]] [6 0 4 2 0]\n"
     ]
    }
   ],
   "source": [
    "# get X and y\n",
    "X = train.iloc[:, :-1].values\n",
    "y = train.iloc[:, -1].values\n",
    "\n",
    "print(X[:5], y[:5])"
   ]
  },
  {
   "cell_type": "code",
   "execution_count": 6,
   "metadata": {},
   "outputs": [
    {
     "name": "stdout",
     "output_type": "stream",
     "text": [
      "X_train.shape: (89600, 20), y_train.shape: (89600,)\n",
      "X_valid.shape: (22400, 20), y_valid.shape: (22400,)\n",
      "X_test.shape: (28000, 20), y_test.shape: (28000,)\n"
     ]
    }
   ],
   "source": [
    "\n",
    "# Assuming X and y are your synthetic dataset features and target\n",
    "X_train, X_test, y_train, y_test = train_test_split(X, y, test_size=0.2, random_state=42)\n",
    "X_train, X_valid, y_train, y_valid = train_test_split(X_train, y_train, test_size=0.2, random_state=42)\n",
    "\n",
    "if os.getenv(\"CI\", False):\n",
    "    # Take only a subsample to run CI\n",
    "    X_train = X_train[:1000, :]\n",
    "    y_train = y_train[:1000]\n",
    "\n",
    "print(f\"X_train.shape: {X_train.shape}, y_train.shape: {y_train.shape}\")\n",
    "print(f\"X_valid.shape: {X_valid.shape}, y_valid.shape: {y_valid.shape}\")\n",
    "print(f\"X_test.shape: {X_test.shape}, y_test.shape: {y_test.shape}\")"
   ]
  },
  {
   "cell_type": "markdown",
   "metadata": {},
   "source": [
    "# Network parameters"
   ]
  },
  {
   "cell_type": "code",
   "execution_count": 7,
   "metadata": {},
   "outputs": [],
   "source": [
    "from pytorch_tabnet.pretraining import TabNetPretrainer"
   ]
  },
  {
   "cell_type": "code",
   "execution_count": 8,
   "metadata": {},
   "outputs": [],
   "source": [
    "cat_idxs = []\n",
    "cat_dims = []"
   ]
  },
  {
   "cell_type": "code",
   "execution_count": 9,
   "metadata": {},
   "outputs": [
    {
     "name": "stderr",
     "output_type": "stream",
     "text": [
      "/home/paritosh/workspace/tabnet/pytorch_tabnet/abstract_model.py:82: UserWarning: Device used : cuda\n",
      "  warnings.warn(f\"Device used : {self.device}\")\n"
     ]
    }
   ],
   "source": [
    "# TabNetPretrainer\n",
    "unsupervised_model = TabNetPretrainer(\n",
    "    # cat_idxs=cat_idxs,\n",
    "    # cat_dims=cat_dims,\n",
    "    # cat_emb_dim=3,\n",
    "    optimizer_fn=torch.optim.Adam,\n",
    "    optimizer_params=dict(lr=2e-2),\n",
    "    mask_type='entmax', # \"sparsemax\",\n",
    "    n_shared_decoder=1, # nb shared glu for decoding\n",
    "    n_indep_decoder=1, # nb independent glu for decoding\n",
    "#     grouped_features=[[0, 1]], # you can group features together here\n",
    "    verbose=5,\n",
    ")"
   ]
  },
  {
   "cell_type": "markdown",
   "metadata": {},
   "source": [
    "# Self Supervised Training"
   ]
  },
  {
   "cell_type": "code",
   "execution_count": 10,
   "metadata": {},
   "outputs": [],
   "source": [
    "max_epochs = 1000 if not os.getenv(\"CI\", False) else 2 # 1000\n",
    "# max_epochs = 10 if not os.getenv(\"CI\", False) else 2"
   ]
  },
  {
   "cell_type": "code",
   "execution_count": 11,
   "metadata": {
    "scrolled": false
   },
   "outputs": [
    {
     "name": "stderr",
     "output_type": "stream",
     "text": [
      "/home/paritosh/workspace/tabnet/pytorch_tabnet/abstract_model.py:687: UserWarning: No early stopping will be performed, last training weights will be used.\n",
      "  warnings.warn(wrn_msg)\n"
     ]
    },
    {
     "name": "stdout",
     "output_type": "stream",
     "text": [
      "epoch 0  | loss: 1.08277 | val_0_unsup_loss_numpy: 1.003659963607788|  0:00:02s\n",
      "epoch 5  | loss: 0.90859 | val_0_unsup_loss_numpy: 0.7663999795913696|  0:00:08s\n",
      "epoch 10 | loss: 0.87301 | val_0_unsup_loss_numpy: 0.6997500061988831|  0:00:14s\n",
      "epoch 15 | loss: 0.85679 | val_0_unsup_loss_numpy: 0.6825399994850159|  0:00:20s\n",
      "epoch 20 | loss: 0.85073 | val_0_unsup_loss_numpy: 0.6838099956512451|  0:00:27s\n",
      "epoch 25 | loss: 0.84521 | val_0_unsup_loss_numpy: 0.6868799924850464|  0:00:33s\n",
      "epoch 30 | loss: 0.84089 | val_0_unsup_loss_numpy: 0.6860100030899048|  0:00:39s\n",
      "epoch 35 | loss: 0.83554 | val_0_unsup_loss_numpy: 0.6874099969863892|  0:00:46s\n",
      "epoch 40 | loss: 0.83279 | val_0_unsup_loss_numpy: 0.6860100030899048|  0:00:52s\n",
      "epoch 45 | loss: 0.82882 | val_0_unsup_loss_numpy: 0.6855599880218506|  0:00:59s\n",
      "epoch 50 | loss: 0.82677 | val_0_unsup_loss_numpy: 0.6808599829673767|  0:01:05s\n",
      "epoch 55 | loss: 0.82615 | val_0_unsup_loss_numpy: 0.6809800267219543|  0:01:12s\n",
      "epoch 60 | loss: 0.82545 | val_0_unsup_loss_numpy: 0.6871299743652344|  0:01:18s\n",
      "epoch 65 | loss: 0.82529 | val_0_unsup_loss_numpy: 0.6908599734306335|  0:01:25s\n",
      "epoch 70 | loss: 0.82404 | val_0_unsup_loss_numpy: 0.6870399713516235|  0:01:32s\n",
      "epoch 75 | loss: 0.82196 | val_0_unsup_loss_numpy: 0.6901900172233582|  0:01:40s\n",
      "epoch 80 | loss: 0.82274 | val_0_unsup_loss_numpy: 0.6970300078392029|  0:01:46s\n",
      "epoch 85 | loss: 0.81905 | val_0_unsup_loss_numpy: 0.6911299824714661|  0:01:52s\n",
      "epoch 90 | loss: 0.82137 | val_0_unsup_loss_numpy: 0.6992300152778625|  0:01:57s\n",
      "epoch 95 | loss: 0.81841 | val_0_unsup_loss_numpy: 0.6923900246620178|  0:02:03s\n",
      "epoch 100| loss: 0.81761 | val_0_unsup_loss_numpy: 0.6944000124931335|  0:02:09s\n",
      "epoch 105| loss: 0.81912 | val_0_unsup_loss_numpy: 0.6935700178146362|  0:02:15s\n",
      "epoch 110| loss: 0.81718 | val_0_unsup_loss_numpy: 0.693880021572113|  0:02:22s\n",
      "epoch 115| loss: 0.81776 | val_0_unsup_loss_numpy: 0.6977699995040894|  0:02:30s\n",
      "epoch 120| loss: 0.81611 | val_0_unsup_loss_numpy: 0.6979600191116333|  0:02:39s\n",
      "epoch 125| loss: 0.81615 | val_0_unsup_loss_numpy: 0.6970900297164917|  0:02:46s\n",
      "epoch 130| loss: 0.81702 | val_0_unsup_loss_numpy: 0.6949499845504761|  0:02:53s\n",
      "epoch 135| loss: 0.81664 | val_0_unsup_loss_numpy: 0.6977900266647339|  0:03:01s\n",
      "epoch 140| loss: 0.81607 | val_0_unsup_loss_numpy: 0.7037500143051147|  0:03:09s\n",
      "epoch 145| loss: 0.81532 | val_0_unsup_loss_numpy: 0.6959800124168396|  0:03:18s\n",
      "epoch 150| loss: 0.81493 | val_0_unsup_loss_numpy: 0.7029600143432617|  0:03:24s\n",
      "epoch 155| loss: 0.81568 | val_0_unsup_loss_numpy: 0.702019989490509|  0:03:30s\n",
      "epoch 160| loss: 0.8176  | val_0_unsup_loss_numpy: 0.6933000087738037|  0:03:35s\n",
      "epoch 165| loss: 0.81447 | val_0_unsup_loss_numpy: 0.6969900131225586|  0:03:41s\n",
      "epoch 170| loss: 0.81518 | val_0_unsup_loss_numpy: 0.7001399993896484|  0:03:47s\n",
      "epoch 175| loss: 0.81394 | val_0_unsup_loss_numpy: 0.7014899849891663|  0:03:52s\n",
      "epoch 180| loss: 0.81477 | val_0_unsup_loss_numpy: 0.6978800296783447|  0:04:01s\n",
      "epoch 185| loss: 0.81373 | val_0_unsup_loss_numpy: 0.6973999738693237|  0:04:09s\n",
      "epoch 190| loss: 0.81247 | val_0_unsup_loss_numpy: 0.6944500207901001|  0:04:14s\n",
      "epoch 195| loss: 0.81398 | val_0_unsup_loss_numpy: 0.6984599828720093|  0:04:21s\n",
      "epoch 200| loss: 0.81238 | val_0_unsup_loss_numpy: 0.6940799951553345|  0:04:28s\n",
      "epoch 205| loss: 0.81333 | val_0_unsup_loss_numpy: 0.7049499750137329|  0:04:34s\n",
      "epoch 210| loss: 0.81413 | val_0_unsup_loss_numpy: 0.698199987411499|  0:04:40s\n",
      "epoch 215| loss: 0.81311 | val_0_unsup_loss_numpy: 0.700410008430481|  0:04:47s\n",
      "epoch 220| loss: 0.81145 | val_0_unsup_loss_numpy: 0.6988300085067749|  0:04:52s\n",
      "epoch 225| loss: 0.81113 | val_0_unsup_loss_numpy: 0.6970700025558472|  0:04:58s\n",
      "epoch 230| loss: 0.81241 | val_0_unsup_loss_numpy: 0.700689971446991|  0:05:05s\n",
      "epoch 235| loss: 0.8111  | val_0_unsup_loss_numpy: 0.7018799781799316|  0:05:11s\n",
      "epoch 240| loss: 0.81025 | val_0_unsup_loss_numpy: 0.6996200084686279|  0:05:16s\n",
      "epoch 245| loss: 0.81213 | val_0_unsup_loss_numpy: 0.6970700025558472|  0:05:23s\n",
      "epoch 250| loss: 0.81314 | val_0_unsup_loss_numpy: 0.6957899928092957|  0:05:29s\n",
      "epoch 255| loss: 0.81321 | val_0_unsup_loss_numpy: 0.6998500227928162|  0:05:36s\n",
      "epoch 260| loss: 0.81343 | val_0_unsup_loss_numpy: 0.7028300166130066|  0:05:43s\n",
      "epoch 265| loss: 0.81129 | val_0_unsup_loss_numpy: 0.6939799785614014|  0:05:49s\n",
      "epoch 270| loss: 0.8116  | val_0_unsup_loss_numpy: 0.7038400173187256|  0:05:56s\n",
      "epoch 275| loss: 0.8105  | val_0_unsup_loss_numpy: 0.6977300047874451|  0:06:02s\n",
      "epoch 280| loss: 0.80902 | val_0_unsup_loss_numpy: 0.6977499723434448|  0:06:08s\n",
      "epoch 285| loss: 0.81096 | val_0_unsup_loss_numpy: 0.7006099820137024|  0:06:15s\n",
      "epoch 290| loss: 0.81181 | val_0_unsup_loss_numpy: 0.6991699934005737|  0:06:23s\n",
      "epoch 295| loss: 0.81307 | val_0_unsup_loss_numpy: 0.6992999911308289|  0:06:30s\n",
      "epoch 300| loss: 0.80885 | val_0_unsup_loss_numpy: 0.7026600241661072|  0:06:36s\n",
      "epoch 305| loss: 0.81015 | val_0_unsup_loss_numpy: 0.7085099816322327|  0:06:41s\n",
      "epoch 310| loss: 0.81152 | val_0_unsup_loss_numpy: 0.6982499957084656|  0:06:48s\n",
      "epoch 315| loss: 0.80888 | val_0_unsup_loss_numpy: 0.6984500288963318|  0:06:53s\n",
      "epoch 320| loss: 0.81042 | val_0_unsup_loss_numpy: 0.6994799971580505|  0:06:59s\n",
      "epoch 325| loss: 0.80897 | val_0_unsup_loss_numpy: 0.6995099782943726|  0:07:08s\n",
      "epoch 330| loss: 0.80907 | val_0_unsup_loss_numpy: 0.703980028629303|  0:07:13s\n",
      "epoch 335| loss: 0.8099  | val_0_unsup_loss_numpy: 0.6982200145721436|  0:07:20s\n",
      "epoch 340| loss: 0.80923 | val_0_unsup_loss_numpy: 0.6969599723815918|  0:07:25s\n",
      "epoch 345| loss: 0.80982 | val_0_unsup_loss_numpy: 0.703220009803772|  0:07:33s\n",
      "epoch 350| loss: 0.80914 | val_0_unsup_loss_numpy: 0.698989987373352|  0:07:40s\n",
      "epoch 355| loss: 0.80917 | val_0_unsup_loss_numpy: 0.7000700235366821|  0:07:46s\n",
      "epoch 360| loss: 0.81085 | val_0_unsup_loss_numpy: 0.7017499804496765|  0:07:52s\n",
      "epoch 365| loss: 0.81104 | val_0_unsup_loss_numpy: 0.6988800168037415|  0:07:59s\n",
      "epoch 370| loss: 0.80779 | val_0_unsup_loss_numpy: 0.6986700296401978|  0:08:05s\n",
      "epoch 375| loss: 0.81052 | val_0_unsup_loss_numpy: 0.6985800266265869|  0:08:11s\n",
      "epoch 380| loss: 0.80939 | val_0_unsup_loss_numpy: 0.7091900110244751|  0:08:16s\n",
      "epoch 385| loss: 0.80929 | val_0_unsup_loss_numpy: 0.6983399987220764|  0:08:22s\n",
      "epoch 390| loss: 0.81015 | val_0_unsup_loss_numpy: 0.7015500068664551|  0:08:28s\n",
      "epoch 395| loss: 0.8098  | val_0_unsup_loss_numpy: 0.7041199803352356|  0:08:33s\n",
      "epoch 400| loss: 0.80678 | val_0_unsup_loss_numpy: 0.704039990901947|  0:08:39s\n",
      "epoch 405| loss: 0.8095  | val_0_unsup_loss_numpy: 0.7064300179481506|  0:08:45s\n",
      "epoch 410| loss: 0.80647 | val_0_unsup_loss_numpy: 0.7003200054168701|  0:08:51s\n",
      "epoch 415| loss: 0.81075 | val_0_unsup_loss_numpy: 0.6971700191497803|  0:08:57s\n",
      "epoch 420| loss: 0.8083  | val_0_unsup_loss_numpy: 0.6985200047492981|  0:09:04s\n",
      "epoch 425| loss: 0.80825 | val_0_unsup_loss_numpy: 0.7006400227546692|  0:09:11s\n",
      "epoch 430| loss: 0.80826 | val_0_unsup_loss_numpy: 0.6991900205612183|  0:09:19s\n",
      "epoch 435| loss: 0.81085 | val_0_unsup_loss_numpy: 0.7003300189971924|  0:09:25s\n",
      "epoch 440| loss: 0.80836 | val_0_unsup_loss_numpy: 0.698639988899231|  0:09:33s\n",
      "epoch 445| loss: 0.80744 | val_0_unsup_loss_numpy: 0.7005599737167358|  0:09:39s\n",
      "epoch 450| loss: 0.80596 | val_0_unsup_loss_numpy: 0.7010899782180786|  0:09:45s\n",
      "epoch 455| loss: 0.80639 | val_0_unsup_loss_numpy: 0.7009000182151794|  0:09:51s\n",
      "epoch 460| loss: 0.8086  | val_0_unsup_loss_numpy: 0.6982799768447876|  0:09:57s\n",
      "epoch 465| loss: 0.80908 | val_0_unsup_loss_numpy: 0.6941900253295898|  0:10:04s\n",
      "epoch 470| loss: 0.80816 | val_0_unsup_loss_numpy: 0.7018600106239319|  0:10:10s\n",
      "epoch 475| loss: 0.80857 | val_0_unsup_loss_numpy: 0.7020800113677979|  0:10:18s\n",
      "epoch 480| loss: 0.806   | val_0_unsup_loss_numpy: 0.6998299956321716|  0:10:25s\n",
      "epoch 485| loss: 0.80517 | val_0_unsup_loss_numpy: 0.6979799866676331|  0:10:31s\n",
      "epoch 490| loss: 0.80859 | val_0_unsup_loss_numpy: 0.7017199993133545|  0:10:37s\n",
      "epoch 495| loss: 0.80938 | val_0_unsup_loss_numpy: 0.7023299932479858|  0:10:43s\n",
      "epoch 500| loss: 0.80874 | val_0_unsup_loss_numpy: 0.6998299956321716|  0:10:51s\n",
      "epoch 505| loss: 0.8092  | val_0_unsup_loss_numpy: 0.6952700018882751|  0:10:57s\n",
      "epoch 510| loss: 0.8047  | val_0_unsup_loss_numpy: 0.6982600092887878|  0:11:03s\n",
      "epoch 515| loss: 0.80906 | val_0_unsup_loss_numpy: 0.701479971408844|  0:11:09s\n",
      "epoch 520| loss: 0.80637 | val_0_unsup_loss_numpy: 0.698170006275177|  0:11:15s\n",
      "epoch 525| loss: 0.80909 | val_0_unsup_loss_numpy: 0.698889970779419|  0:11:23s\n",
      "epoch 530| loss: 0.80744 | val_0_unsup_loss_numpy: 0.7114199995994568|  0:11:30s\n",
      "epoch 535| loss: 0.80796 | val_0_unsup_loss_numpy: 0.6989399790763855|  0:11:36s\n",
      "epoch 540| loss: 0.80939 | val_0_unsup_loss_numpy: 0.7035199999809265|  0:11:42s\n",
      "epoch 545| loss: 0.80876 | val_0_unsup_loss_numpy: 0.6997100114822388|  0:11:48s\n",
      "epoch 550| loss: 0.80625 | val_0_unsup_loss_numpy: 0.6987199783325195|  0:11:55s\n",
      "epoch 555| loss: 0.80847 | val_0_unsup_loss_numpy: 0.6982700228691101|  0:12:03s\n",
      "epoch 560| loss: 0.80669 | val_0_unsup_loss_numpy: 0.6988400220870972|  0:12:10s\n",
      "epoch 565| loss: 0.80504 | val_0_unsup_loss_numpy: 0.6958500146865845|  0:12:17s\n",
      "epoch 570| loss: 0.80769 | val_0_unsup_loss_numpy: 0.6985599994659424|  0:12:23s\n",
      "epoch 575| loss: 0.8052  | val_0_unsup_loss_numpy: 0.6960700154304504|  0:12:28s\n",
      "epoch 580| loss: 0.80603 | val_0_unsup_loss_numpy: 0.6981899738311768|  0:12:36s\n",
      "epoch 585| loss: 0.80632 | val_0_unsup_loss_numpy: 0.6973400115966797|  0:12:41s\n",
      "epoch 590| loss: 0.80659 | val_0_unsup_loss_numpy: 0.7020699977874756|  0:12:47s\n",
      "epoch 595| loss: 0.80725 | val_0_unsup_loss_numpy: 0.6978499889373779|  0:12:53s\n",
      "epoch 600| loss: 0.80781 | val_0_unsup_loss_numpy: 0.6986100077629089|  0:12:59s\n",
      "epoch 605| loss: 0.8067  | val_0_unsup_loss_numpy: 0.700469970703125|  0:13:07s\n",
      "epoch 610| loss: 0.80708 | val_0_unsup_loss_numpy: 0.7030799984931946|  0:13:13s\n",
      "epoch 615| loss: 0.80783 | val_0_unsup_loss_numpy: 0.7017999887466431|  0:13:19s\n",
      "epoch 620| loss: 0.80637 | val_0_unsup_loss_numpy: 0.6994500160217285|  0:13:25s\n",
      "epoch 625| loss: 0.80801 | val_0_unsup_loss_numpy: 0.6995000243186951|  0:13:31s\n",
      "epoch 630| loss: 0.80772 | val_0_unsup_loss_numpy: 0.6952300071716309|  0:13:37s\n",
      "epoch 635| loss: 0.80749 | val_0_unsup_loss_numpy: 0.7020000219345093|  0:13:43s\n",
      "epoch 640| loss: 0.80424 | val_0_unsup_loss_numpy: 0.6992200016975403|  0:13:50s\n",
      "epoch 645| loss: 0.80641 | val_0_unsup_loss_numpy: 0.7052000164985657|  0:13:56s\n",
      "epoch 650| loss: 0.80413 | val_0_unsup_loss_numpy: 0.7041900157928467|  0:14:02s\n",
      "epoch 655| loss: 0.80745 | val_0_unsup_loss_numpy: 0.7059999704360962|  0:14:09s\n",
      "epoch 660| loss: 0.80631 | val_0_unsup_loss_numpy: 0.700980007648468|  0:14:15s\n",
      "epoch 665| loss: 0.8076  | val_0_unsup_loss_numpy: 0.7034199833869934|  0:14:23s\n",
      "epoch 670| loss: 0.80594 | val_0_unsup_loss_numpy: 0.7033399939537048|  0:14:31s\n",
      "epoch 675| loss: 0.80563 | val_0_unsup_loss_numpy: 0.7013499736785889|  0:14:37s\n",
      "epoch 680| loss: 0.8084  | val_0_unsup_loss_numpy: 0.7009199857711792|  0:14:43s\n",
      "epoch 685| loss: 0.80817 | val_0_unsup_loss_numpy: 0.6976799964904785|  0:14:50s\n",
      "epoch 690| loss: 0.80648 | val_0_unsup_loss_numpy: 0.6937500238418579|  0:14:57s\n",
      "epoch 695| loss: 0.80788 | val_0_unsup_loss_numpy: 0.7031400203704834|  0:15:04s\n",
      "epoch 700| loss: 0.80471 | val_0_unsup_loss_numpy: 0.6892600059509277|  0:15:11s\n",
      "epoch 705| loss: 0.80675 | val_0_unsup_loss_numpy: 0.7004799842834473|  0:15:17s\n",
      "epoch 710| loss: 0.80481 | val_0_unsup_loss_numpy: 0.7025799751281738|  0:15:24s\n",
      "epoch 715| loss: 0.80707 | val_0_unsup_loss_numpy: 0.6996700167655945|  0:15:30s\n",
      "epoch 720| loss: 0.80603 | val_0_unsup_loss_numpy: 0.6953700184822083|  0:15:37s\n",
      "epoch 725| loss: 0.80602 | val_0_unsup_loss_numpy: 0.6960399746894836|  0:15:43s\n",
      "epoch 730| loss: 0.80471 | val_0_unsup_loss_numpy: 0.6975200176239014|  0:15:50s\n",
      "epoch 735| loss: 0.80852 | val_0_unsup_loss_numpy: 0.7059000134468079|  0:15:56s\n",
      "epoch 740| loss: 0.80591 | val_0_unsup_loss_numpy: 0.7088000178337097|  0:16:02s\n",
      "epoch 745| loss: 0.80463 | val_0_unsup_loss_numpy: 0.6998100280761719|  0:16:07s\n",
      "epoch 750| loss: 0.807   | val_0_unsup_loss_numpy: 0.6996099948883057|  0:16:15s\n",
      "epoch 755| loss: 0.80637 | val_0_unsup_loss_numpy: 0.6980000138282776|  0:16:23s\n",
      "epoch 760| loss: 0.80681 | val_0_unsup_loss_numpy: 0.6960600018501282|  0:16:33s\n",
      "epoch 765| loss: 0.80701 | val_0_unsup_loss_numpy: 0.7001500129699707|  0:16:39s\n",
      "epoch 770| loss: 0.80522 | val_0_unsup_loss_numpy: 0.6994699835777283|  0:16:45s\n",
      "epoch 775| loss: 0.80508 | val_0_unsup_loss_numpy: 0.7069100141525269|  0:16:52s\n",
      "epoch 780| loss: 0.8071  | val_0_unsup_loss_numpy: 0.6988199949264526|  0:16:58s\n",
      "epoch 785| loss: 0.80575 | val_0_unsup_loss_numpy: 0.7022200226783752|  0:17:04s\n",
      "epoch 790| loss: 0.80704 | val_0_unsup_loss_numpy: 0.6972200274467468|  0:17:11s\n",
      "epoch 795| loss: 0.80622 | val_0_unsup_loss_numpy: 0.7071999907493591|  0:17:19s\n",
      "epoch 800| loss: 0.80604 | val_0_unsup_loss_numpy: 0.7019299864768982|  0:17:26s\n",
      "epoch 805| loss: 0.80963 | val_0_unsup_loss_numpy: 0.6985099911689758|  0:17:34s\n",
      "epoch 810| loss: 0.80689 | val_0_unsup_loss_numpy: 0.7067099809646606|  0:17:40s\n",
      "epoch 815| loss: 0.80492 | val_0_unsup_loss_numpy: 0.7005400061607361|  0:17:47s\n",
      "epoch 820| loss: 0.80517 | val_0_unsup_loss_numpy: 0.6947199702262878|  0:17:53s\n",
      "epoch 825| loss: 0.8033  | val_0_unsup_loss_numpy: 0.6954100131988525|  0:18:00s\n",
      "epoch 830| loss: 0.80619 | val_0_unsup_loss_numpy: 0.7051699757575989|  0:18:07s\n",
      "epoch 835| loss: 0.80369 | val_0_unsup_loss_numpy: 0.6994699835777283|  0:18:13s\n",
      "epoch 840| loss: 0.80607 | val_0_unsup_loss_numpy: 0.6949700117111206|  0:18:19s\n",
      "epoch 845| loss: 0.80794 | val_0_unsup_loss_numpy: 0.7017099857330322|  0:18:27s\n",
      "epoch 850| loss: 0.80713 | val_0_unsup_loss_numpy: 0.7017199993133545|  0:18:33s\n",
      "epoch 855| loss: 0.80615 | val_0_unsup_loss_numpy: 0.6990100145339966|  0:18:40s\n",
      "epoch 860| loss: 0.80469 | val_0_unsup_loss_numpy: 0.6997900009155273|  0:18:49s\n",
      "epoch 865| loss: 0.805   | val_0_unsup_loss_numpy: 0.7040500044822693|  0:18:59s\n",
      "epoch 870| loss: 0.80593 | val_0_unsup_loss_numpy: 0.7018899917602539|  0:19:04s\n",
      "epoch 875| loss: 0.80561 | val_0_unsup_loss_numpy: 0.7038400173187256|  0:19:11s\n",
      "epoch 880| loss: 0.80677 | val_0_unsup_loss_numpy: 0.701740026473999|  0:19:19s\n",
      "epoch 885| loss: 0.80597 | val_0_unsup_loss_numpy: 0.7006499767303467|  0:19:25s\n",
      "epoch 890| loss: 0.80585 | val_0_unsup_loss_numpy: 0.7030199766159058|  0:19:33s\n",
      "epoch 895| loss: 0.80464 | val_0_unsup_loss_numpy: 0.7072799801826477|  0:19:42s\n",
      "epoch 900| loss: 0.80627 | val_0_unsup_loss_numpy: 0.7052099704742432|  0:19:51s\n",
      "epoch 905| loss: 0.80665 | val_0_unsup_loss_numpy: 0.698889970779419|  0:19:57s\n",
      "epoch 910| loss: 0.80575 | val_0_unsup_loss_numpy: 0.7067700028419495|  0:20:05s\n",
      "epoch 915| loss: 0.8046  | val_0_unsup_loss_numpy: 0.7056099772453308|  0:20:12s\n",
      "epoch 920| loss: 0.80583 | val_0_unsup_loss_numpy: 0.6998900175094604|  0:20:21s\n",
      "epoch 925| loss: 0.80637 | val_0_unsup_loss_numpy: 0.6978200078010559|  0:20:30s\n",
      "epoch 930| loss: 0.80667 | val_0_unsup_loss_numpy: 0.7074099779129028|  0:20:37s\n",
      "epoch 935| loss: 0.80326 | val_0_unsup_loss_numpy: 0.6955599784851074|  0:20:45s\n",
      "epoch 940| loss: 0.80445 | val_0_unsup_loss_numpy: 0.702709972858429|  0:20:52s\n",
      "epoch 945| loss: 0.80595 | val_0_unsup_loss_numpy: 0.6956999897956848|  0:20:59s\n",
      "epoch 950| loss: 0.80569 | val_0_unsup_loss_numpy: 0.7049999833106995|  0:21:05s\n",
      "epoch 955| loss: 0.80365 | val_0_unsup_loss_numpy: 0.701960027217865|  0:21:10s\n",
      "epoch 960| loss: 0.80277 | val_0_unsup_loss_numpy: 0.7018399834632874|  0:21:16s\n",
      "epoch 965| loss: 0.80682 | val_0_unsup_loss_numpy: 0.6963199973106384|  0:21:25s\n",
      "epoch 970| loss: 0.80511 | val_0_unsup_loss_numpy: 0.6985399723052979|  0:21:31s\n",
      "epoch 975| loss: 0.8032  | val_0_unsup_loss_numpy: 0.6996999979019165|  0:21:37s\n",
      "epoch 980| loss: 0.80591 | val_0_unsup_loss_numpy: 0.7020099759101868|  0:21:43s\n",
      "epoch 985| loss: 0.80568 | val_0_unsup_loss_numpy: 0.6993100047111511|  0:21:49s\n",
      "epoch 990| loss: 0.8065  | val_0_unsup_loss_numpy: 0.7005100250244141|  0:21:56s\n",
      "epoch 995| loss: 0.80483 | val_0_unsup_loss_numpy: 0.7032700181007385|  0:22:03s\n"
     ]
    }
   ],
   "source": [
    "# unsupervised_model.fit(\n",
    "#     X_train=X_train,\n",
    "#     eval_set=[X_valid],\n",
    "#     max_epochs=max_epochs , patience=5,\n",
    "#     batch_size=2048, virtual_batch_size=128,\n",
    "#     num_workers=0,\n",
    "#     drop_last=False,\n",
    "#     pretraining_ratio=0.5,\n",
    "# ) \n",
    "\n",
    "unsupervised_model.fit(\n",
    "    X_train=X_train,\n",
    "    eval_set=[X_valid],\n",
    "    max_epochs=max_epochs , patience=0,\n",
    "    batch_size=2048, virtual_batch_size=128,\n",
    "    num_workers=0,\n",
    "    drop_last=False,\n",
    "    pretraining_ratio=0.5,\n",
    ") "
   ]
  },
  {
   "cell_type": "code",
   "execution_count": 12,
   "metadata": {},
   "outputs": [],
   "source": [
    "# Make reconstruction from a dataset\n",
    "reconstructed_X, embedded_X = unsupervised_model.predict(X_valid)\n",
    "assert(reconstructed_X.shape==embedded_X.shape)"
   ]
  },
  {
   "cell_type": "code",
   "execution_count": 13,
   "metadata": {},
   "outputs": [
    {
     "name": "stdout",
     "output_type": "stream",
     "text": [
      "y_train_unique: [0 1 2 3 4 5 6]\n"
     ]
    }
   ],
   "source": [
    "# y_train unique values\n",
    "y_train_unique = np.unique(y_train)\n",
    "print(f\"y_train_unique: {y_train_unique}\")"
   ]
  },
  {
   "cell_type": "code",
   "execution_count": 14,
   "metadata": {},
   "outputs": [
    {
     "name": "stdout",
     "output_type": "stream",
     "text": [
      "Embeddings shape: (3500, 20)\n",
      "Number of samples: 3500\n"
     ]
    }
   ],
   "source": [
    "from sklearn.utils import resample\n",
    "\n",
    "# Obtain class-balanced samples from the training data\n",
    "X_train_balanced, y_train_balanced = resample(\n",
    "    X_train, y_train, replace=True, n_samples=3500, random_state=42, stratify=y_train\n",
    ")\n",
    "\n",
    "# Extract embeddings using the pretrained model\n",
    "_, embedded_X_train_balanced = unsupervised_model.predict(X_train_balanced)\n",
    "\n",
    "# Verify the shape of the extracted embeddings\n",
    "print(\"Embeddings shape:\", embedded_X_train_balanced.shape)\n",
    "print(\"Number of samples:\", len(y_train_balanced))"
   ]
  },
  {
   "cell_type": "code",
   "execution_count": 15,
   "metadata": {},
   "outputs": [
    {
     "name": "stdout",
     "output_type": "stream",
     "text": [
      "[t-SNE] Computing 91 nearest neighbors...\n",
      "[t-SNE] Indexed 3500 samples in 0.000s...\n",
      "[t-SNE] Computed neighbors for 3500 samples in 0.051s...\n",
      "[t-SNE] Computed conditional probabilities for sample 1000 / 3500\n",
      "[t-SNE] Computed conditional probabilities for sample 2000 / 3500\n",
      "[t-SNE] Computed conditional probabilities for sample 3000 / 3500\n",
      "[t-SNE] Computed conditional probabilities for sample 3500 / 3500\n",
      "[t-SNE] Mean sigma: 4.106035\n",
      "[t-SNE] KL divergence after 250 iterations with early exaggeration: 82.486061\n",
      "[t-SNE] KL divergence after 1000 iterations: 1.951878\n"
     ]
    }
   ],
   "source": [
    "from sklearn.manifold import TSNE\n",
    "tsne = TSNE(n_components=2, verbose=1)\n",
    "tsne_embeddings = tsne.fit_transform(embedded_X_train_balanced)"
   ]
  },
  {
   "cell_type": "code",
   "execution_count": 16,
   "metadata": {},
   "outputs": [
    {
     "name": "stderr",
     "output_type": "stream",
     "text": [
      "VAT Processing: 100%|██████████| 3497/3497 [01:05<00:00, 53.15it/s] \n",
      "Final loop: 100%|██████████| 3500/3500 [00:00<00:00, 6847044.78it/s]\n",
      "iVAT Processing: 100%|██████████| 3499/3499 [00:00<00:00, 32194.59it/s]\n"
     ]
    },
    {
     "data": {
      "image/png": "[encoded data removed]",
      "text/plain": [
       "<Figure size 640x480 with 1 Axes>"
      ]
     },
     "metadata": {},
     "output_type": "display_data"
    }
   ],
   "source": [
    "from VAT_library.iVAT import iVAT\n",
    "from scipy.spatial.distance import cdist\n",
    "\n",
    "pairwise_dist = cdist(tsne_embeddings, tsne_embeddings)\n",
    "\n",
    "RiV, RV, reordering_mat = iVAT(pairwise_dist)\n",
    "\n",
    "plt.imshow(RiV, cmap='gray')\n",
    "plt.savefig('saved_models/synthetic_hard/embed_2D.png')"
   ]
  },
  {
   "cell_type": "code",
   "execution_count": 17,
   "metadata": {},
   "outputs": [
    {
     "name": "stderr",
     "output_type": "stream",
     "text": [
      "VAT Processing: 100%|██████████| 3497/3497 [01:06<00:00, 52.83it/s] \n",
      "Final loop: 100%|██████████| 3500/3500 [00:00<00:00, 6812094.66it/s]\n",
      "iVAT Processing: 100%|██████████| 3499/3499 [00:00<00:00, 32626.53it/s]\n"
     ]
    },
    {
     "data": {
      "image/png": "[encoded data removed]",
      "text/plain": [
       "<Figure size 640x480 with 1 Axes>"
      ]
     },
     "metadata": {},
     "output_type": "display_data"
    }
   ],
   "source": [
    "pairwise_dist = cdist(embedded_X_train_balanced, embedded_X_train_balanced)\n",
    "\n",
    "RiV, RV, reordering_mat = iVAT(pairwise_dist)\n",
    "\n",
    "plt.imshow(RiV, cmap='gray')\n",
    "plt.savefig('saved_models/synthetic_hard/raw_embed_2D.png')"
   ]
  },
  {
   "cell_type": "code",
   "execution_count": 18,
   "metadata": {
    "scrolled": true
   },
   "outputs": [],
   "source": [
    "unsupervised_explain_matrix, unsupervised_masks = unsupervised_model.explain(X_valid)"
   ]
  },
  {
   "cell_type": "code",
   "execution_count": 19,
   "metadata": {},
   "outputs": [
    {
     "data": {
      "image/png": "[encoded data removed]",
      "text/plain": [
       "<Figure size 2000x2000 with 3 Axes>"
      ]
     },
     "metadata": {},
     "output_type": "display_data"
    }
   ],
   "source": [
    "fig, axs = plt.subplots(1, 3, figsize=(20,20))\n",
    "\n",
    "for i in range(3):\n",
    "    axs[i].imshow(unsupervised_masks[i][:50])\n",
    "    axs[i].set_title(f\"mask {i}\")\n"
   ]
  },
  {
   "cell_type": "markdown",
   "metadata": {},
   "source": [
    "## Save and load the same way as other TabNet models"
   ]
  },
  {
   "cell_type": "code",
   "execution_count": 20,
   "metadata": {},
   "outputs": [
    {
     "name": "stdout",
     "output_type": "stream",
     "text": [
      "Successfully saved model at saved_models/synthetic_hard/synth_hard_1000_epochs.zip\n"
     ]
    },
    {
     "name": "stderr",
     "output_type": "stream",
     "text": [
      "/home/paritosh/workspace/tabnet/pytorch_tabnet/abstract_model.py:82: UserWarning: Device used : cuda\n",
      "  warnings.warn(f\"Device used : {self.device}\")\n"
     ]
    }
   ],
   "source": [
    "unsupervised_model.save_model('saved_models/synthetic_hard/synth_hard_1000_epochs')\n",
    "loaded_pretrain = TabNetPretrainer()\n",
    "loaded_pretrain.load_model('saved_models/synthetic_hard/synth_hard_1000_epochs.zip')"
   ]
  },
  {
   "cell_type": "markdown",
   "metadata": {},
   "source": [
    "# Training"
   ]
  },
  {
   "cell_type": "code",
   "execution_count": null,
   "metadata": {},
   "outputs": [],
   "source": [
    "clf = TabNetClassifier(optimizer_fn=torch.optim.Adam,\n",
    "                       optimizer_params=dict(lr=2e-3),\n",
    "                       scheduler_params={\"step_size\":10, # how to use learning rate scheduler\n",
    "                                         \"gamma\":0.9},\n",
    "                       scheduler_fn=torch.optim.lr_scheduler.StepLR,\n",
    "                       mask_type='sparsemax', # This will be overwritten if using pretrain model\n",
    "                       verbose=5,\n",
    "                      )"
   ]
  },
  {
   "cell_type": "code",
   "execution_count": null,
   "metadata": {
    "scrolled": false
   },
   "outputs": [],
   "source": [
    "clf.fit(\n",
    "    X_train=X_train, y_train=y_train,\n",
    "    eval_set=[(X_train, y_train), (X_valid, y_valid)],\n",
    "    eval_name=['train', 'valid'],\n",
    "    eval_metric=['auc'],\n",
    "    max_epochs=max_epochs , patience=20,\n",
    "    batch_size=1024, virtual_batch_size=128,\n",
    "    num_workers=0,\n",
    "    weights=1,\n",
    "    drop_last=False,\n",
    "    from_unsupervised=loaded_pretrain,\n",
    "    \n",
    ") "
   ]
  },
  {
   "cell_type": "code",
   "execution_count": null,
   "metadata": {},
   "outputs": [],
   "source": [
    "# plot losses\n",
    "plt.plot(clf.history['loss'])"
   ]
  },
  {
   "cell_type": "code",
   "execution_count": null,
   "metadata": {},
   "outputs": [],
   "source": [
    "# plot auc\n",
    "plt.plot(clf.history['train_auc'])\n",
    "plt.plot(clf.history['valid_auc'])"
   ]
  },
  {
   "cell_type": "code",
   "execution_count": null,
   "metadata": {},
   "outputs": [],
   "source": [
    "# plot learning rates\n",
    "plt.plot(clf.history['lr'])"
   ]
  },
  {
   "cell_type": "markdown",
   "metadata": {},
   "source": [
    "## Predictions"
   ]
  },
  {
   "cell_type": "code",
   "execution_count": null,
   "metadata": {},
   "outputs": [],
   "source": [
    "preds = clf.predict_proba(X_test)\n",
    "test_auc = roc_auc_score(y_score=preds[:,1], y_true=y_test)\n",
    "\n",
    "\n",
    "preds_valid = clf.predict_proba(X_valid)\n",
    "valid_auc = roc_auc_score(y_score=preds_valid[:,1], y_true=y_valid)\n",
    "\n",
    "print(f\"BEST VALID SCORE FOR {dataset_name} : {clf.best_cost}\")\n",
    "print(f\"FINAL TEST SCORE FOR {dataset_name} : {test_auc}\")"
   ]
  },
  {
   "cell_type": "code",
   "execution_count": null,
   "metadata": {},
   "outputs": [],
   "source": [
    "# check that best weights are used\n",
    "assert np.isclose(valid_auc, np.max(clf.history['valid_auc']), atol=1e-6)"
   ]
  },
  {
   "cell_type": "markdown",
   "metadata": {},
   "source": [
    "# Save and load Model"
   ]
  },
  {
   "cell_type": "code",
   "execution_count": null,
   "metadata": {},
   "outputs": [],
   "source": [
    "# save tabnet model\n",
    "saving_path_name = \"./tabnet_model_test_1\"\n",
    "saved_filepath = clf.save_model(saving_path_name)"
   ]
  },
  {
   "cell_type": "code",
   "execution_count": null,
   "metadata": {},
   "outputs": [],
   "source": [
    "# define new model with basic parameters and load state dict weights\n",
    "loaded_clf = TabNetClassifier()\n",
    "loaded_clf.load_model(saved_filepath)"
   ]
  },
  {
   "cell_type": "code",
   "execution_count": null,
   "metadata": {},
   "outputs": [],
   "source": [
    "loaded_preds = loaded_clf.predict_proba(X_test)\n",
    "loaded_test_auc = roc_auc_score(y_score=loaded_preds[:,1], y_true=y_test)\n",
    "\n",
    "print(f\"FINAL TEST SCORE FOR {dataset_name} : {loaded_test_auc}\")"
   ]
  },
  {
   "cell_type": "code",
   "execution_count": null,
   "metadata": {},
   "outputs": [],
   "source": [
    "assert(test_auc == loaded_test_auc)"
   ]
  },
  {
   "cell_type": "markdown",
   "metadata": {},
   "source": [
    "# Global explainability : feat importance summing to 1"
   ]
  },
  {
   "cell_type": "code",
   "execution_count": null,
   "metadata": {},
   "outputs": [],
   "source": [
    "clf.feature_importances_"
   ]
  },
  {
   "cell_type": "markdown",
   "metadata": {},
   "source": [
    "# Local explainability and masks"
   ]
  },
  {
   "cell_type": "code",
   "execution_count": null,
   "metadata": {},
   "outputs": [],
   "source": [
    "explain_matrix, masks = clf.explain(X_test)"
   ]
  },
  {
   "cell_type": "code",
   "execution_count": null,
   "metadata": {},
   "outputs": [],
   "source": [
    "fig, axs = plt.subplots(1, 3, figsize=(20,20))\n",
    "\n",
    "for i in range(3):\n",
    "    axs[i].imshow(masks[i][:50])\n",
    "    axs[i].set_title(f\"mask {i}\")\n"
   ]
  }
 ],
 "metadata": {
  "kernelspec": {
   "display_name": "Python 3",
   "language": "python",
   "name": "python3"
  },
  "language_info": {
   "codemirror_mode": {
    "name": "ipython",
    "version": 3
   },
   "file_extension": ".py",
   "mimetype": "text/x-python",
   "name": "python",
   "nbconvert_exporter": "python",
   "pygments_lexer": "ipython3",
   "version": "3.11.5"
  },
  "toc": {
   "base_numbering": 1,
   "nav_menu": {},
   "number_sections": true,
   "sideBar": true,
   "skip_h1_title": false,
   "title_cell": "Table of Contents",
   "title_sidebar": "Contents",
   "toc_cell": false,
   "toc_position": {},
   "toc_section_display": true,
   "toc_window_display": false
  }
 },
 "nbformat": 4,
 "nbformat_minor": 2
}
